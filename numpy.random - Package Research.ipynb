{
 "cells": [
  {
   "cell_type": "markdown",
   "metadata": {
    "collapsed": true
   },
   "source": [
    "# numpy.random - Package Research\n",
    "\n",
    "## Assignment Details\n",
    "\n",
    "The purpose of this Jupyter notebook is to conduct research into the use of the *numpy.random* package.\n",
    "\n",
    "Per the assignment, there are four distinct tasks to be completed:\n",
    "\n",
    "1. Explain the overall purpose of the package.\n",
    "2. Explain the use of the “Simple random data” and “Permutations” functions.\n",
    "3. Explain the use and purpose of at least five “Distributions” functions.\n",
    "4. Explain the use of seeds in generating pseudorandom numbers."
   ]
  },
  {
   "cell_type": "markdown",
   "metadata": {},
   "source": [
    "## Purpose of the package\n",
    "\n",
    "*numpy.random* is utilised to generate pseudo-random numbers which are generated based on the Mersenne Twister algorithm. Pseudo-random numbers are sufficent for most purposes as real random numbers are difficult to produce. [1] These numbers are considered pseudo random, as opposed to random, as they are generated deterministically from a seed number. Per the introduction to numpy documentation [2],  the numbers are then  distributed  in a random fashion which has statistical similarities to true random numbers. \n",
    "\n",
    "The *numpy.random* subpackage contains a number of fuctions which allow the generation intergers or floats. Per the documentation page, there are four sections which provide an explanation into these functions. Within this notebook, a few of these functions will be analysed and explained. [3]\n",
    "\n"
   ]
  },
  {
   "cell_type": "markdown",
   "metadata": {},
   "source": [
    "## Simple Random Data\n",
    "\n",
    "This section of the *numpy.random* documentation [3] contains several functions that can be utilized to generate random numbers and / or random selections from a list of strings.\n"
   ]
  },
  {
   "cell_type": "code",
   "execution_count": 1,
   "metadata": {
    "collapsed": true
   },
   "outputs": [],
   "source": [
    "import matplotlib\n",
    "import numpy as np\n",
    "import matplotlib.pyplot as plt\n",
    "import pandas as pd\n",
    "%matplotlib inline"
   ]
  },
  {
   "cell_type": "markdown",
   "metadata": {},
   "source": [
    "## np.random.rand()\n",
    "\n",
    "The * np.random.rand()* function creates an array, of a given shape defined by the user, and subsequently populates it with random numbers. The numbers produced are of uniform distribution from *[0, 1)* i.e. 0 < x ≥ 1.\n",
    "\n",
    "See the arrays below that have be procuded in different shapes."
   ]
  },
  {
   "cell_type": "code",
   "execution_count": 2,
   "metadata": {
    "collapsed": true
   },
   "outputs": [],
   "source": [
    "RAND_1a = np.random.rand(5)\n",
    "RAND_1b = np.random.rand(5)\n",
    "\n",
    "RAND_2a = np.random.rand(5,2)\n",
    "RAND_2b = np.random.rand(5,2)\n",
    "\n",
    "RAND_3a = np.random.rand(5,2,2)\n",
    "RAND_3b = np.random.rand(5,2,2)\n",
    "\n",
    "RAND_4a = np.random.rand(5,2,2,2)\n",
    "RAND_4b = np.random.rand(5,2,2,2)"
   ]
  },
  {
   "cell_type": "code",
   "execution_count": 3,
   "metadata": {},
   "outputs": [
    {
     "name": "stdout",
     "output_type": "stream",
     "text": [
      "Array 1: [ 0.27980675  0.1723552   0.36539011  0.0913206   0.13392297]\n",
      "Array 2: [ 0.40342969  0.03307809  0.82527033  0.30593712  0.03000011]\n"
     ]
    }
   ],
   "source": [
    "print(\"Array 1:\",RAND_1a)\n",
    "print(\"Array 2:\",RAND_1b)"
   ]
  },
  {
   "cell_type": "markdown",
   "metadata": {},
   "source": [
    "By producing two arrays at the same time, and by using identical coding, the random number generation can be clearly seen. This becomes more difficult to visualize with larger arrays and with those of different shapes."
   ]
  },
  {
   "cell_type": "code",
   "execution_count": 4,
   "metadata": {},
   "outputs": [
    {
     "name": "stdout",
     "output_type": "stream",
     "text": [
      "Array 3: [[ 0.64202656  0.80360665]\n",
      " [ 0.5275896   0.95558989]\n",
      " [ 0.04630966  0.12552705]\n",
      " [ 0.07155656  0.41165993]\n",
      " [ 0.88950103  0.71999317]]\n",
      "Array 4: [[ 0.12864036  0.07910217]\n",
      " [ 0.50914814  0.79637095]\n",
      " [ 0.48788356  0.49847789]\n",
      " [ 0.133618    0.05296781]\n",
      " [ 0.42087022  0.64389503]]\n"
     ]
    }
   ],
   "source": [
    "print(\"Array 3:\",RAND_2a)\n",
    "print(\"Array 4:\",RAND_2b)"
   ]
  },
  {
   "cell_type": "code",
   "execution_count": 5,
   "metadata": {},
   "outputs": [
    {
     "name": "stdout",
     "output_type": "stream",
     "text": [
      "Array 5: [[[ 0.80700759  0.83452497]\n",
      "  [ 0.35987132  0.83717962]]\n",
      "\n",
      " [[ 0.03729888  0.94777377]\n",
      "  [ 0.98167346  0.57085121]]\n",
      "\n",
      " [[ 0.71773091  0.8484735 ]\n",
      "  [ 0.54023868  0.38328516]]\n",
      "\n",
      " [[ 0.3093607   0.68243593]\n",
      "  [ 0.96477199  0.70573895]]\n",
      "\n",
      " [[ 0.52007978  0.37769862]\n",
      "  [ 0.24182116  0.82803272]]]\n",
      "Array 6: [[[ 0.01937001  0.69018618]\n",
      "  [ 0.01730775  0.92740163]]\n",
      "\n",
      " [[ 0.77196235  0.13725142]\n",
      "  [ 0.23266701  0.965945  ]]\n",
      "\n",
      " [[ 0.96401469  0.35659174]\n",
      "  [ 0.40174868  0.33406827]]\n",
      "\n",
      " [[ 0.99678546  0.09302226]\n",
      "  [ 0.72612903  0.21382191]]\n",
      "\n",
      " [[ 0.52151443  0.2521946 ]\n",
      "  [ 0.0636844   0.86749941]]]\n"
     ]
    }
   ],
   "source": [
    "print(\"Array 5:\",RAND_3a)\n",
    "print(\"Array 6:\",RAND_3b)"
   ]
  },
  {
   "cell_type": "code",
   "execution_count": 6,
   "metadata": {},
   "outputs": [
    {
     "name": "stdout",
     "output_type": "stream",
     "text": [
      "Array 7: [[[[ 0.77469188  0.21177036]\n",
      "   [ 0.78498789  0.1315786 ]]\n",
      "\n",
      "  [[ 0.46271199  0.490805  ]\n",
      "   [ 0.21992147  0.65245748]]]\n",
      "\n",
      "\n",
      " [[[ 0.9726864   0.28162041]\n",
      "   [ 0.41133239  0.97249745]]\n",
      "\n",
      "  [[ 0.7626056   0.6849087 ]\n",
      "   [ 0.02783172  0.98830175]]]\n",
      "\n",
      "\n",
      " [[[ 0.79078116  0.42205125]\n",
      "   [ 0.5330084   0.57874347]]\n",
      "\n",
      "  [[ 0.61732197  0.90031636]\n",
      "   [ 0.86190198  0.70543332]]]\n",
      "\n",
      "\n",
      " [[[ 0.21946146  0.40574727]\n",
      "   [ 0.0804007   0.83873992]]\n",
      "\n",
      "  [[ 0.79521822  0.200104  ]\n",
      "   [ 0.47056378  0.237912  ]]]\n",
      "\n",
      "\n",
      " [[[ 0.37064759  0.45048006]\n",
      "   [ 0.58026767  0.10160087]]\n",
      "\n",
      "  [[ 0.49274959  0.14771766]\n",
      "   [ 0.06756729  0.74046362]]]]\n",
      "Array 8: [[[[ 0.85336492  0.33797225]\n",
      "   [ 0.0780133   0.21917955]]\n",
      "\n",
      "  [[ 0.8786521   0.59357287]\n",
      "   [ 0.86778436  0.00342226]]]\n",
      "\n",
      "\n",
      " [[[ 0.948909    0.03636492]\n",
      "   [ 0.06187741  0.43663545]]\n",
      "\n",
      "  [[ 0.80178965  0.88803295]\n",
      "   [ 0.87512865  0.49412272]]]\n",
      "\n",
      "\n",
      " [[[ 0.91930109  0.76026468]\n",
      "   [ 0.03121723  0.03727266]]\n",
      "\n",
      "  [[ 0.32718973  0.9438975 ]\n",
      "   [ 0.14814108  0.03198394]]]\n",
      "\n",
      "\n",
      " [[[ 0.23384163  0.37013252]\n",
      "   [ 0.50077052  0.90164247]]\n",
      "\n",
      "  [[ 0.19605604  0.73062701]\n",
      "   [ 0.50117017  0.89107498]]]\n",
      "\n",
      "\n",
      " [[[ 0.93839536  0.28658457]\n",
      "   [ 0.84972367  0.82016379]]\n",
      "\n",
      "  [[ 0.00698191  0.49461733]\n",
      "   [ 0.24360502  0.5701957 ]]]]\n"
     ]
    }
   ],
   "source": [
    "print(\"Array 7:\",RAND_4a)\n",
    "print(\"Array 8:\",RAND_4b)"
   ]
  },
  {
   "cell_type": "code",
   "execution_count": 7,
   "metadata": {},
   "outputs": [
    {
     "data": {
      "image/png": "[encoded data removed]",
      "text/plain": [
       "<matplotlib.figure.Figure at 0x1d660f14860>"
      ]
     },
     "metadata": {},
     "output_type": "display_data"
    },
    {
     "data": {
      "image/png": "[encoded data removed]",
      "text/plain": [
       "<matplotlib.figure.Figure at 0x1d660ebc080>"
      ]
     },
     "metadata": {},
     "output_type": "display_data"
    },
    {
     "name": "stdout",
     "output_type": "stream",
     "text": [
      "Basic Statistics of Set 1                   0\n",
      "count  50000.000000\n",
      "mean       0.500065\n",
      "std        0.287814\n",
      "min        0.000011\n",
      "25%        0.250774\n",
      "50%        0.499668\n",
      "75%        0.748405\n",
      "max        0.999999\n",
      "Basic Statistics of Set 2                   0\n",
      "count  50000.000000\n",
      "mean       0.501457\n",
      "std        0.288353\n",
      "min        0.000035\n",
      "25%        0.255189\n",
      "50%        0.501494\n",
      "75%        0.751753\n",
      "max        0.999998\n"
     ]
    }
   ],
   "source": [
    "Hist_RAND_1 = np.random.rand(50000)\n",
    "Hist_RAND_2 = np.random.rand(50000)\n",
    "\n",
    "plt.hist(Hist_RAND_1, bins = 10)\n",
    "plt.title('Histogram of 50000 random numbers (Set 1)')\n",
    "plt.show()\n",
    "plt.hist(Hist_RAND_2, bins = 10)\n",
    "plt.title('Histogram of 50000 random numbers (Set 2)')\n",
    "plt.show()\n",
    "\n",
    "df_1 = pd.DataFrame(Hist_RAND_1)\n",
    "print(\"Basic Statistics of Set 1\",df_1.describe())\n",
    "\n",
    "df_2 = pd.DataFrame(Hist_RAND_2)\n",
    "print(\"Basic Statistics of Set 2\",df_2.describe())"
   ]
  },
  {
   "cell_type": "markdown",
   "metadata": {},
   "source": [
    "By plotting two histograms of Set 1 and Set 2 and by producing some basic descriptive statistics of the two datasets, the uniform distribution can be visualized. It can also be seen that the datasets have slight differences in what numbers were randomly generated."
   ]
  },
  {
   "cell_type": "markdown",
   "metadata": {
    "collapsed": true
   },
   "source": [
    "## np.random.randn()\n",
    "\n",
    "Similarly to the *np.random.rand()* function, the *np.random.randn()* function produces an array of random numbers within a user inputted size and shape. The difference between the two functions is that the *np.random.randn()* function produces random numbers that will always follow a Gaussian distribution, i.e. a Normal Distribution, with a mean of 0 and a variance of 1. \n"
   ]
  },
  {
   "cell_type": "code",
   "execution_count": 17,
   "metadata": {},
   "outputs": [
    {
     "data": {
      "image/png": "[encoded data removed]",
      "text/plain": [
       "<matplotlib.figure.Figure at 0x1d662972780>"
      ]
     },
     "metadata": {},
     "output_type": "display_data"
    },
    {
     "data": {
      "image/png": "[encoded data removed]",
      "text/plain": [
       "<matplotlib.figure.Figure at 0x1d662972400>"
      ]
     },
     "metadata": {},
     "output_type": "display_data"
    },
    {
     "name": "stdout",
     "output_type": "stream",
     "text": [
      "Basic Statistics of Set 3                   0\n",
      "count  50000.000000\n",
      "mean       0.003193\n",
      "std        0.999757\n",
      "min       -4.200333\n",
      "25%       -0.670655\n",
      "50%        0.009263\n",
      "75%        0.678279\n",
      "max        4.107572\n",
      "Basic Statistics of Set 4                   0\n",
      "count  50000.000000\n",
      "mean      -0.008728\n",
      "std        1.000121\n",
      "min       -4.199297\n",
      "25%       -0.679294\n",
      "50%       -0.011162\n",
      "75%        0.668952\n",
      "max        4.159405\n"
     ]
    }
   ],
   "source": [
    "Hist_RANDN_1 = np.random.randn(50000)\n",
    "Hist_RANDN_2 = np.random.randn(50000)\n",
    "\n",
    "plt.hist(Hist_RANDN_1, bins = 10)\n",
    "plt.title('Histogram of 50000 random numbers (Set 3)')\n",
    "plt.show()\n",
    "plt.hist(Hist_RANDN_2, bins = 10)\n",
    "plt.title('Histogram of 50000 random numbers (Set 4)')\n",
    "plt.show()\n",
    "\n",
    "df_1 = pd.DataFrame(Hist_RANDN_1)\n",
    "print(\"Basic Statistics of Set 3\",df_1.describe())\n",
    "\n",
    "df_2 = pd.DataFrame(Hist_RANDN_2)\n",
    "print(\"Basic Statistics of Set 4\",df_2.describe())"
   ]
  },
  {
   "cell_type": "markdown",
   "metadata": {},
   "source": [
    "From viewing the histograms produced for datasets 3 and 4, it can be clearly noted that the *np.random.randn()* function produces data that follow much different distribution that the *np.random.rand()* function.  By increasing the bins values, a bell curve shape will begin to form this is typical of data that follows a normal distribution."
   ]
  },
  {
   "cell_type": "code",
   "execution_count": 18,
   "metadata": {},
   "outputs": [
    {
     "data": {
      "image/png": "[encoded data removed]",
      "text/plain": [
       "<matplotlib.figure.Figure at 0x1d662a8d278>"
      ]
     },
     "metadata": {},
     "output_type": "display_data"
    },
    {
     "data": {
      "image/png": "[encoded data removed]",
      "text/plain": [
       "<matplotlib.figure.Figure at 0x1d662924c50>"
      ]
     },
     "metadata": {},
     "output_type": "display_data"
    },
    {
     "name": "stdout",
     "output_type": "stream",
     "text": [
      "Basic Statistics of Set 3                   0\n",
      "count  50000.000000\n",
      "mean       0.003193\n",
      "std        0.999757\n",
      "min       -4.200333\n",
      "25%       -0.670655\n",
      "50%        0.009263\n",
      "75%        0.678279\n",
      "max        4.107572\n",
      "Basic Statistics of Set 4                   0\n",
      "count  50000.000000\n",
      "mean      -0.008728\n",
      "std        1.000121\n",
      "min       -4.199297\n",
      "25%       -0.679294\n",
      "50%       -0.011162\n",
      "75%        0.668952\n",
      "max        4.159405\n"
     ]
    }
   ],
   "source": [
    "plt.hist(Hist_RANDN_1, bins = 100)\n",
    "plt.title('Histogram of 50000 random numbers (Set 3)')\n",
    "plt.show()\n",
    "plt.hist(Hist_RANDN_2, bins = 100)\n",
    "plt.title('Histogram of 50000 random numbers (Set 4)')\n",
    "plt.show()\n",
    "\n",
    "df_1 = pd.DataFrame(Hist_RANDN_1)\n",
    "print(\"Basic Statistics of Set 3\",df_1.describe())\n",
    "\n",
    "df_2 = pd.DataFrame(Hist_RANDN_2)\n",
    "print(\"Basic Statistics of Set 4\",df_2.describe())"
   ]
  },
  {
   "cell_type": "markdown",
   "metadata": {},
   "source": [
    "## References\n",
    "\n",
    "1. https://www.safaribooksonline.com/library/view/python-data-analysis/9781783553358/ch03s05.html\n",
    "2. https://engineering.ucsb.edu/~shell/che210d/numpy.\n",
    "3. https://docs.scipy.org/doc/numpy-1.15.1/reference/routines.random.html"
   ]
  }
 ],
 "metadata": {
  "kernelspec": {
   "display_name": "Python 3",
   "language": "python",
   "name": "python3"
  },
  "language_info": {
   "codemirror_mode": {
    "name": "ipython",
    "version": 3
   },
   "file_extension": ".py",
   "mimetype": "text/x-python",
   "name": "python",
   "nbconvert_exporter": "python",
   "pygments_lexer": "ipython3",
   "version": "3.6.3"
  }
 },
 "nbformat": 4,
 "nbformat_minor": 2
}
