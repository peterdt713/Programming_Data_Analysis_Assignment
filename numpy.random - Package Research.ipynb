{
 "cells": [
  {
   "cell_type": "markdown",
   "metadata": {
    "collapsed": true
   },
   "source": [
    "# numpy.random - Package Research\n",
    "\n",
    "## Assignment Details\n",
    "\n",
    "The purpose of this Jupyter notebook is to conduct research into the use of the *numpy.random* package.\n",
    "\n",
    "Per the assignment, there are four distinct tasks to be completed:\n",
    "\n",
    "1. Explain the overall purpose of the package.\n",
    "2. Explain the use of the “Simple random data” and “Permutations” functions.\n",
    "3. Explain the use and purpose of at least five “Distributions” functions.\n",
    "4. Explain the use of seeds in generating pseudorandom numbers."
   ]
  },
  {
   "cell_type": "markdown",
   "metadata": {},
   "source": [
    "## Purpose of the package\n",
    "\n",
    "*numpy.random* is utilised to generate pseudo-random numbers which are generated based on the Mersenne Twister algorithm. Pseudo-random numbers are sufficent for most purposes as real random numbers are difficult to produce. [1] These numbers are considered pseudo random, as opposed to random, as they are generated deterministically from a seed number. Per the introduction to numpy documentation [2],  the numbers are then  distributed  in a random fashion which has statistical similarities to true random numbers. \n",
    "\n",
    "The *numpy.random* subpackage contains a number of fuctions which allow the generation intergers or floats. Per the documentation page, there are four sections which provide an explanation into these functions. Within this notebook, a few of these functions will be analysed and explained. [3]\n",
    "\n"
   ]
  },
  {
   "cell_type": "markdown",
   "metadata": {},
   "source": [
    "## Simple Random Data\n",
    "\n",
    "This section of the *numpy.random* documentation [3] contains several functions that can be utilized to generate random numbers and / or random selections from a list of strings.\n"
   ]
  },
  {
   "cell_type": "code",
   "execution_count": 45,
   "metadata": {
    "collapsed": true
   },
   "outputs": [],
   "source": [
    "import matplotlib\n",
    "import numpy as np\n",
    "import matplotlib.pyplot as plt\n",
    "import pandas as pd\n",
    "%matplotlib inline"
   ]
  },
  {
   "cell_type": "markdown",
   "metadata": {},
   "source": [
    "## np.random.rand()\n",
    "\n",
    "The * np.random.rand()* function creates an array, of a given shape defined by the user, and subsequently populates it with random numbers. The numbers produced are of uniform distribution from *[0, 1)* i.e. 0 < x ≥ 1.\n",
    "\n",
    "See the arrays below that have be procuded in different shapes."
   ]
  },
  {
   "cell_type": "code",
   "execution_count": 18,
   "metadata": {},
   "outputs": [],
   "source": [
    "RAND_1a = np.random.rand(5)\n",
    "RAND_1b = np.random.rand(5)\n",
    "\n",
    "RAND_2a = np.random.rand(5,2)\n",
    "RAND_2b = np.random.rand(5,2)\n",
    "\n",
    "RAND_3a = np.random.rand(5,2,2)\n",
    "RAND_3b = np.random.rand(5,2,2)\n",
    "\n",
    "RAND_4a = np.random.rand(5,2,2,2)\n",
    "RAND_4b = np.random.rand(5,2,2,2)"
   ]
  },
  {
   "cell_type": "code",
   "execution_count": 19,
   "metadata": {},
   "outputs": [
    {
     "name": "stdout",
     "output_type": "stream",
     "text": [
      "Array 1: [ 0.82600089  0.12795559  0.16376318  0.29757895  0.29998915]\n",
      "Array 2: [ 0.0259735   0.85191297  0.81410547  0.97497154  0.44273801]\n"
     ]
    }
   ],
   "source": [
    "print(\"Array 1:\",RAND_1a)\n",
    "print(\"Array 2:\",RAND_1b)"
   ]
  },
  {
   "cell_type": "markdown",
   "metadata": {},
   "source": [
    "By producing two arrays at the same time, and by using identical coding, the random number generation can be clearly seen. This becomes more difficult to visualize with larger arrays and with those of different shapes."
   ]
  },
  {
   "cell_type": "code",
   "execution_count": 20,
   "metadata": {},
   "outputs": [
    {
     "name": "stdout",
     "output_type": "stream",
     "text": [
      "Array 3: [[ 0.59881868  0.04439946]\n",
      " [ 0.33452865  0.45571814]\n",
      " [ 0.90611346  0.65441059]\n",
      " [ 0.93857751  0.09831631]\n",
      " [ 0.92021236  0.93687043]]\n",
      "Array 4: [[ 0.32495683  0.17933607]\n",
      " [ 0.62688196  0.51064337]\n",
      " [ 0.25535259  0.79575442]\n",
      " [ 0.40655129  0.23461427]\n",
      " [ 0.79071136  0.64078497]]\n"
     ]
    }
   ],
   "source": [
    "print(\"Array 3:\",RAND_2a)\n",
    "print(\"Array 4:\",RAND_2b)"
   ]
  },
  {
   "cell_type": "code",
   "execution_count": 21,
   "metadata": {},
   "outputs": [
    {
     "name": "stdout",
     "output_type": "stream",
     "text": [
      "Array 5: [[[ 0.29646264  0.21439547]\n",
      "  [ 0.44011628  0.00619178]]\n",
      "\n",
      " [[ 0.39853807  0.1523842 ]\n",
      "  [ 0.17523618  0.99155146]]\n",
      "\n",
      " [[ 0.23009941  0.68561551]\n",
      "  [ 0.458973    0.71115773]]\n",
      "\n",
      " [[ 0.49467057  0.54988676]\n",
      "  [ 0.8794648   0.99571403]]\n",
      "\n",
      " [[ 0.65423131  0.73749261]\n",
      "  [ 0.16233415  0.64371364]]]\n",
      "Array 6: [[[ 0.12415603  0.61521465]\n",
      "  [ 0.71027397  0.56266919]]\n",
      "\n",
      " [[ 0.2889615   0.01644672]\n",
      "  [ 0.65011091  0.95085236]]\n",
      "\n",
      " [[ 0.49583022  0.86312908]\n",
      "  [ 0.07365468  0.85104849]]\n",
      "\n",
      " [[ 0.9637715   0.05945546]\n",
      "  [ 0.22395003  0.9143108 ]]\n",
      "\n",
      " [[ 0.29726966  0.64762207]\n",
      "  [ 0.72219876  0.18743275]]]\n"
     ]
    }
   ],
   "source": [
    "print(\"Array 5:\",RAND_3a)\n",
    "print(\"Array 6:\",RAND_3b)"
   ]
  },
  {
   "cell_type": "code",
   "execution_count": 22,
   "metadata": {},
   "outputs": [
    {
     "name": "stdout",
     "output_type": "stream",
     "text": [
      "Array 7: [[[[ 0.81532022  0.11312887]\n",
      "   [ 0.93738154  0.0212981 ]]\n",
      "\n",
      "  [[ 0.31005851  0.20625495]\n",
      "   [ 0.3179493   0.93356773]]]\n",
      "\n",
      "\n",
      " [[[ 0.91436032  0.05275184]\n",
      "   [ 0.22899648  0.36168918]]\n",
      "\n",
      "  [[ 0.94675753  0.39720946]\n",
      "   [ 0.93818783  0.85187389]]]\n",
      "\n",
      "\n",
      " [[[ 0.37219528  0.29823809]\n",
      "   [ 0.78040078  0.84397727]]\n",
      "\n",
      "  [[ 0.2415208   0.8299664 ]\n",
      "   [ 0.3513415   0.0382108 ]]]\n",
      "\n",
      "\n",
      " [[[ 0.54969284  0.31282779]\n",
      "   [ 0.31311542  0.25351371]]\n",
      "\n",
      "  [[ 0.19359412  0.11939841]\n",
      "   [ 0.7431041   0.93704604]]]\n",
      "\n",
      "\n",
      " [[[ 0.11999682  0.69738895]\n",
      "   [ 0.80883821  0.15141671]]\n",
      "\n",
      "  [[ 0.28810094  0.35437153]\n",
      "   [ 0.12537855  0.84886997]]]]\n",
      "Array 8: [[[[ 0.71170048  0.8705285 ]\n",
      "   [ 0.33503554  0.70373298]]\n",
      "\n",
      "  [[ 0.91636518  0.70407747]\n",
      "   [ 0.96157868  0.96444884]]]\n",
      "\n",
      "\n",
      " [[[ 0.69964241  0.60820867]\n",
      "   [ 0.62948593  0.09530779]]\n",
      "\n",
      "  [[ 0.7403882   0.23672638]\n",
      "   [ 0.09416925  0.86825628]]]\n",
      "\n",
      "\n",
      " [[[ 0.21970068  0.33741222]\n",
      "   [ 0.97792412  0.55366658]]\n",
      "\n",
      "  [[ 0.62986174  0.53219906]\n",
      "   [ 0.25876986  0.52856925]]]\n",
      "\n",
      "\n",
      " [[[ 0.18496796  0.87720761]\n",
      "   [ 0.41258522  0.82563356]]\n",
      "\n",
      "  [[ 0.56697697  0.45478815]\n",
      "   [ 0.48736563  0.35489737]]]\n",
      "\n",
      "\n",
      " [[[ 0.57193134  0.55127766]\n",
      "   [ 0.60224601  0.71617027]]\n",
      "\n",
      "  [[ 0.1176261   0.96589412]\n",
      "   [ 0.45345157  0.98605393]]]]\n"
     ]
    }
   ],
   "source": [
    "print(\"Array 7:\",RAND_4a)\n",
    "print(\"Array 8:\",RAND_4b)"
   ]
  },
  {
   "cell_type": "code",
   "execution_count": 49,
   "metadata": {},
   "outputs": [
    {
     "data": {
      "image/png": "[encoded data removed]",
      "text/plain": [
       "<matplotlib.figure.Figure at 0x27d23d1b630>"
      ]
     },
     "metadata": {},
     "output_type": "display_data"
    },
    {
     "data": {
      "image/png": "[encoded data removed]",
      "text/plain": [
       "<matplotlib.figure.Figure at 0x27d25926ac8>"
      ]
     },
     "metadata": {},
     "output_type": "display_data"
    },
    {
     "name": "stdout",
     "output_type": "stream",
     "text": [
      "Basic Statistics of Set 1                   0\n",
      "count  50000.000000\n",
      "mean       0.500276\n",
      "std        0.288592\n",
      "min        0.000012\n",
      "25%        0.250368\n",
      "50%        0.498888\n",
      "75%        0.750493\n",
      "max        0.999993\n",
      "Basic Statistics of Set 2                   0\n",
      "count  50000.000000\n",
      "mean       0.501495\n",
      "std        0.289561\n",
      "min        0.000027\n",
      "25%        0.250247\n",
      "50%        0.504235\n",
      "75%        0.754122\n",
      "max        0.999989\n"
     ]
    }
   ],
   "source": [
    "Hist_RAND_1 = np.random.rand(50000)\n",
    "Hist_RAND_2 = np.random.rand(50000)\n",
    "\n",
    "plt.hist(Hist_RAND_1, bins = 10)\n",
    "plt.title('Histogram of 50000 random numbers (Set 1)')\n",
    "plt.show()\n",
    "plt.hist(Hist_RAND_2, bins = 10)\n",
    "plt.title('Histogram of 50000 random numbers (Set 2)')\n",
    "plt.show()\n",
    "\n",
    "df_1 = pd.DataFrame(Hist_RAND_1)\n",
    "print(\"Basic Statistics of Set 1\",df_1.describe())\n",
    "\n",
    "df_2 = pd.DataFrame(Hist_RAND_2)\n",
    "print(\"Basic Statistics of Set 2\",df_2.describe())"
   ]
  },
  {
   "cell_type": "markdown",
   "metadata": {},
   "source": [
    "By plotting two histograms of Set 1 and Set 2 and by producing some basic descriptive statistics of the two datasets, the uniform distribution can be visualized. It can also be seen that the datasets have slight differences in what numbers were randomly generated."
   ]
  },
  {
   "cell_type": "markdown",
   "metadata": {},
   "source": [
    "## References\n",
    "\n",
    "1. https://www.safaribooksonline.com/library/view/python-data-analysis/9781783553358/ch03s05.html\n",
    "2. https://engineering.ucsb.edu/~shell/che210d/numpy.\n",
    "3. https://docs.scipy.org/doc/numpy-1.15.1/reference/routines.random.html"
   ]
  }
 ],
 "metadata": {
  "kernelspec": {
   "display_name": "Python 3",
   "language": "python",
   "name": "python3"
  },
  "language_info": {
   "codemirror_mode": {
    "name": "ipython",
    "version": 3
   },
   "file_extension": ".py",
   "mimetype": "text/x-python",
   "name": "python",
   "nbconvert_exporter": "python",
   "pygments_lexer": "ipython3",
   "version": "3.6.3"
  }
 },
 "nbformat": 4,
 "nbformat_minor": 2
}
