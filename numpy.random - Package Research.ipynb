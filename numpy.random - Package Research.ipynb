{
 "cells": [
  {
   "cell_type": "markdown",
   "metadata": {
    "collapsed": true
   },
   "source": [
    "# numpy.random - Package Research\n",
    "\n",
    "## Assignment Details\n",
    "\n",
    "The purpose of this Jupyter notebook is to conduct research into the use of the *numpy.random* package.\n",
    "\n",
    "Per the assignment, there are four distinct tasks to be completed:\n",
    "\n",
    "1. Explain the overall purpose of the package.\n",
    "2. Explain the use of the “Simple random data” and “Permutations” functions.\n",
    "3. Explain the use and purpose of at least five “Distributions” functions.\n",
    "4. Explain the use of seeds in generating pseudorandom numbers."
   ]
  },
  {
   "cell_type": "markdown",
   "metadata": {},
   "source": [
    "## Purpose of the package\n",
    "\n",
    "*numpy.random* is utilised to generate pseudo-random numbers which are generated based on the Mersenne Twister algorithm. Pseudo-random numbers are sufficent for most purposes as real random numbers are difficult to produce. [1] These numbers are considered pseudo random, as opposed to random, as they are generated deterministically from a seed number. Per the introduction to numpy documentation [2],  the numbers are then  distributed  in a random fashion which has statistical similarities to true random numbers. \n",
    "\n",
    "The *numpy.random* subpackage contains a number of fuctions which allow the generation intergers or floats. Per the documentation page, there are four sections which provide an explanation into these functions. Within this notebook, a few of these functions will be analysed and explained. [3]\n",
    "\n"
   ]
  },
  {
   "cell_type": "markdown",
   "metadata": {},
   "source": [
    "## Simple Random Data\n",
    "\n",
    "This section of the *numpy.random* documentation [3] contains several functions that can be utilized to generate random numbers and / or random selections from a list of strings.\n"
   ]
  },
  {
   "cell_type": "code",
   "execution_count": 1,
   "metadata": {
    "collapsed": true
   },
   "outputs": [],
   "source": [
    "import matplotlib\n",
    "import numpy as np\n",
    "import matplotlib.pyplot as plt\n",
    "import pandas as pd\n",
    "%matplotlib inline"
   ]
  },
  {
   "cell_type": "markdown",
   "metadata": {},
   "source": [
    "## np.random.rand()\n",
    "\n",
    "The * np.random.rand()* function creates an array, of a given shape defined by the user, and subsequently populates it with random numbers. The numbers produced are of uniform distribution from *[0, 1)* i.e. 0 < x ≥ 1.\n",
    "\n",
    "See the arrays below that have be procuded in different shapes."
   ]
  },
  {
   "cell_type": "code",
   "execution_count": 2,
   "metadata": {
    "collapsed": true
   },
   "outputs": [],
   "source": [
    "RAND_1a = np.random.rand(5)\n",
    "RAND_1b = np.random.rand(5)\n",
    "\n",
    "RAND_2a = np.random.rand(5,2)\n",
    "RAND_2b = np.random.rand(5,2)\n",
    "\n",
    "RAND_3a = np.random.rand(5,2,2)\n",
    "RAND_3b = np.random.rand(5,2,2)\n",
    "\n",
    "RAND_4a = np.random.rand(5,2,2,2)\n",
    "RAND_4b = np.random.rand(5,2,2,2)"
   ]
  },
  {
   "cell_type": "code",
   "execution_count": 3,
   "metadata": {},
   "outputs": [
    {
     "name": "stdout",
     "output_type": "stream",
     "text": [
      "Array 1: [ 0.63412957  0.15591152  0.05236787  0.86382085  0.79344609]\n",
      "Array 2: [ 0.17691628  0.71671474  0.17316569  0.75372149  0.36922577]\n"
     ]
    }
   ],
   "source": [
    "print(\"Array 1:\",RAND_1a)\n",
    "print(\"Array 2:\",RAND_1b)"
   ]
  },
  {
   "cell_type": "markdown",
   "metadata": {},
   "source": [
    "By producing two arrays at the same time, and by using identical coding, the random number generation can be clearly seen. This becomes more difficult to visualize with larger arrays and with those of different shapes."
   ]
  },
  {
   "cell_type": "code",
   "execution_count": 4,
   "metadata": {},
   "outputs": [
    {
     "name": "stdout",
     "output_type": "stream",
     "text": [
      "Array 3: [[ 0.95651761  0.54638579]\n",
      " [ 0.67646897  0.90435261]\n",
      " [ 0.70874635  0.47094279]\n",
      " [ 0.42887941  0.57686665]\n",
      " [ 0.74678761  0.23087255]]\n",
      "Array 4: [[ 0.18251797  0.61967013]\n",
      " [ 0.83497361  0.94562312]\n",
      " [ 0.32389015  0.75740942]\n",
      " [ 0.81397718  0.44314569]\n",
      " [ 0.3867453   0.30723191]]\n"
     ]
    }
   ],
   "source": [
    "print(\"Array 3:\",RAND_2a)\n",
    "print(\"Array 4:\",RAND_2b)"
   ]
  },
  {
   "cell_type": "code",
   "execution_count": 5,
   "metadata": {},
   "outputs": [
    {
     "name": "stdout",
     "output_type": "stream",
     "text": [
      "Array 5: [[[ 0.9738123   0.96862941]\n",
      "  [ 0.12661122  0.97383288]]\n",
      "\n",
      " [[ 0.27033523  0.13823699]\n",
      "  [ 0.01859944  0.0665074 ]]\n",
      "\n",
      " [[ 0.79609397  0.31599446]\n",
      "  [ 0.99205675  0.37462454]]\n",
      "\n",
      " [[ 0.15099294  0.83751002]\n",
      "  [ 0.60036026  0.86469163]]\n",
      "\n",
      " [[ 0.55756423  0.56594197]\n",
      "  [ 0.64376751  0.10742476]]]\n",
      "Array 6: [[[ 0.55583431  0.85172668]\n",
      "  [ 0.44414325  0.42540658]]\n",
      "\n",
      " [[ 0.93380412  0.28822456]\n",
      "  [ 0.69786747  0.82263245]]\n",
      "\n",
      " [[ 0.91109556  0.39647642]\n",
      "  [ 0.79222995  0.59203462]]\n",
      "\n",
      " [[ 0.70822505  0.21283175]\n",
      "  [ 0.17991788  0.27113123]]\n",
      "\n",
      " [[ 0.54113797  0.71501314]\n",
      "  [ 0.55443294  0.57600211]]]\n"
     ]
    }
   ],
   "source": [
    "print(\"Array 5:\",RAND_3a)\n",
    "print(\"Array 6:\",RAND_3b)"
   ]
  },
  {
   "cell_type": "code",
   "execution_count": 6,
   "metadata": {},
   "outputs": [
    {
     "name": "stdout",
     "output_type": "stream",
     "text": [
      "Array 7: [[[[ 0.87515619  0.8365514 ]\n",
      "   [ 0.90623402  0.4765982 ]]\n",
      "\n",
      "  [[ 0.02950087  0.13561446]\n",
      "   [ 0.61100316  0.03343347]]]\n",
      "\n",
      "\n",
      " [[[ 0.06637004  0.10251546]\n",
      "   [ 0.26882216  0.54719666]]\n",
      "\n",
      "  [[ 0.69079498  0.2306321 ]\n",
      "   [ 0.21721839  0.9449139 ]]]\n",
      "\n",
      "\n",
      " [[[ 0.93567193  0.30395796]\n",
      "   [ 0.25853217  0.1349689 ]]\n",
      "\n",
      "  [[ 0.64720359  0.22132803]\n",
      "   [ 0.13693753  0.15190657]]]\n",
      "\n",
      "\n",
      " [[[ 0.03476584  0.47234681]\n",
      "   [ 0.27249323  0.20713993]]\n",
      "\n",
      "  [[ 0.44823014  0.88226727]\n",
      "   [ 0.774216    0.78700179]]]\n",
      "\n",
      "\n",
      " [[[ 0.54828136  0.92172745]\n",
      "   [ 0.22467781  0.00673445]]\n",
      "\n",
      "  [[ 0.4343562   0.18423823]\n",
      "   [ 0.6912221   0.89692405]]]]\n",
      "Array 8: [[[[ 0.41122068  0.46542573]\n",
      "   [ 0.51776324  0.5534442 ]]\n",
      "\n",
      "  [[ 0.49161372  0.63010963]\n",
      "   [ 0.27997305  0.85000545]]]\n",
      "\n",
      "\n",
      " [[[ 0.9145344   0.96269258]\n",
      "   [ 0.31385445  0.35280814]]\n",
      "\n",
      "  [[ 0.24555632  0.44085775]\n",
      "   [ 0.72939166  0.6615162 ]]]\n",
      "\n",
      "\n",
      " [[[ 0.9244783   0.35130907]\n",
      "   [ 0.8750144   0.65574629]]\n",
      "\n",
      "  [[ 0.40495453  0.92371643]\n",
      "   [ 0.4509621   0.95319381]]]\n",
      "\n",
      "\n",
      " [[[ 0.16687426  0.84315609]\n",
      "   [ 0.84646438  0.69026373]]\n",
      "\n",
      "  [[ 0.62813576  0.16306753]\n",
      "   [ 0.05504068  0.68484308]]]\n",
      "\n",
      "\n",
      " [[[ 0.47817802  0.15940287]\n",
      "   [ 0.82698769  0.54592837]]\n",
      "\n",
      "  [[ 0.31377202  0.84658434]\n",
      "   [ 0.59510806  0.1137517 ]]]]\n"
     ]
    }
   ],
   "source": [
    "print(\"Array 7:\",RAND_4a)\n",
    "print(\"Array 8:\",RAND_4b)"
   ]
  },
  {
   "cell_type": "code",
   "execution_count": 7,
   "metadata": {},
   "outputs": [
    {
     "data": {
      "image/png": "[encoded data removed]",
      "text/plain": [
       "<matplotlib.figure.Figure at 0x2ca17495898>"
      ]
     },
     "metadata": {},
     "output_type": "display_data"
    },
    {
     "data": {
      "image/png": "[encoded data removed]",
      "text/plain": [
       "<matplotlib.figure.Figure at 0x2ca171b0710>"
      ]
     },
     "metadata": {},
     "output_type": "display_data"
    },
    {
     "name": "stdout",
     "output_type": "stream",
     "text": [
      "Basic Statistics of Set 1                   0\n",
      "count  50000.000000\n",
      "mean       0.497614\n",
      "std        0.288516\n",
      "min        0.000006\n",
      "25%        0.247533\n",
      "50%        0.496473\n",
      "75%        0.746944\n",
      "max        0.999972\n",
      "Basic Statistics of Set 2                   0\n",
      "count  5.000000e+04\n",
      "mean   5.017670e-01\n",
      "std    2.890153e-01\n",
      "min    8.175202e-07\n",
      "25%    2.520586e-01\n",
      "50%    5.025729e-01\n",
      "75%    7.524720e-01\n",
      "max    9.999947e-01\n"
     ]
    }
   ],
   "source": [
    "Hist_RAND_1 = np.random.rand(50000)\n",
    "Hist_RAND_2 = np.random.rand(50000)\n",
    "\n",
    "plt.hist(Hist_RAND_1, bins = 10)\n",
    "plt.title('Histogram of 50000 random numbers (Set 1)')\n",
    "plt.show()\n",
    "plt.hist(Hist_RAND_2, bins = 10)\n",
    "plt.title('Histogram of 50000 random numbers (Set 2)')\n",
    "plt.show()\n",
    "\n",
    "df_1 = pd.DataFrame(Hist_RAND_1)\n",
    "print(\"Basic Statistics of Set 1\",df_1.describe())\n",
    "\n",
    "df_2 = pd.DataFrame(Hist_RAND_2)\n",
    "print(\"Basic Statistics of Set 2\",df_2.describe())"
   ]
  },
  {
   "cell_type": "markdown",
   "metadata": {},
   "source": [
    "By plotting two histograms of Set 1 and Set 2 and by producing some basic descriptive statistics of the two datasets, the uniform distribution can be visualized. It can also be seen that the datasets have slight differences in what numbers were randomly generated."
   ]
  },
  {
   "cell_type": "markdown",
   "metadata": {
    "collapsed": true
   },
   "source": [
    "## np.random.randn()\n",
    "\n",
    "Similarly to the *np.random.rand()* function, the *np.random.randn()* function produces an array of random numbers within a user inputted size and shape. The difference between the two functions is that the *np.random.randn()* function produces random numbers that will always follow a Gaussian distribution, i.e. a Normal Distribution, with a mean of 0 and a variance of 1. \n"
   ]
  },
  {
   "cell_type": "code",
   "execution_count": 8,
   "metadata": {},
   "outputs": [
    {
     "data": {
      "image/png": "[encoded data removed]",
      "text/plain": [
       "<matplotlib.figure.Figure at 0x2ca17495748>"
      ]
     },
     "metadata": {},
     "output_type": "display_data"
    },
    {
     "data": {
      "image/png": "[encoded data removed]",
      "text/plain": [
       "<matplotlib.figure.Figure at 0x2ca1763ef28>"
      ]
     },
     "metadata": {},
     "output_type": "display_data"
    },
    {
     "name": "stdout",
     "output_type": "stream",
     "text": [
      "Basic Statistics of Set 3                   0\n",
      "count  50000.000000\n",
      "mean      -0.002342\n",
      "std        1.000065\n",
      "min       -4.111303\n",
      "25%       -0.677287\n",
      "50%       -0.008849\n",
      "75%        0.680587\n",
      "max        4.076533\n",
      "Basic Statistics of Set 4                   0\n",
      "count  50000.000000\n",
      "mean       0.005755\n",
      "std        0.995411\n",
      "min       -3.882310\n",
      "25%       -0.666872\n",
      "50%        0.008872\n",
      "75%        0.684798\n",
      "max        3.987774\n"
     ]
    }
   ],
   "source": [
    "Hist_RANDN_1 = np.random.randn(50000)\n",
    "Hist_RANDN_2 = np.random.randn(50000)\n",
    "\n",
    "plt.hist(Hist_RANDN_1, bins = 10)\n",
    "plt.title('Histogram of 50000 random numbers (Set 3)')\n",
    "plt.show()\n",
    "plt.hist(Hist_RANDN_2, bins = 10)\n",
    "plt.title('Histogram of 50000 random numbers (Set 4)')\n",
    "plt.show()\n",
    "\n",
    "df_1 = pd.DataFrame(Hist_RANDN_1)\n",
    "print(\"Basic Statistics of Set 3\",df_1.describe())\n",
    "\n",
    "df_2 = pd.DataFrame(Hist_RANDN_2)\n",
    "print(\"Basic Statistics of Set 4\",df_2.describe())"
   ]
  },
  {
   "cell_type": "markdown",
   "metadata": {},
   "source": [
    "From viewing the histograms produced for datasets 3 and 4, it can be clearly noted that the *np.random.randn()* function produces data that follow much different distribution that the *np.random.rand()* function.  By increasing the bins values, a bell curve shape will begin to form this is typical of data that follows a normal distribution."
   ]
  },
  {
   "cell_type": "code",
   "execution_count": 33,
   "metadata": {},
   "outputs": [
    {
     "data": {
      "image/png": "[encoded data removed]",
      "text/plain": [
       "<matplotlib.figure.Figure at 0x2ca18c4ea90>"
      ]
     },
     "metadata": {},
     "output_type": "display_data"
    },
    {
     "data": {
      "image/png": "[encoded data removed]",
      "text/plain": [
       "<matplotlib.figure.Figure at 0x2ca18c4ebe0>"
      ]
     },
     "metadata": {},
     "output_type": "display_data"
    },
    {
     "name": "stdout",
     "output_type": "stream",
     "text": [
      "Basic Statistics of Set 3                   0\n",
      "count  50000.000000\n",
      "mean      -0.002342\n",
      "std        1.000065\n",
      "min       -4.111303\n",
      "25%       -0.677287\n",
      "50%       -0.008849\n",
      "75%        0.680587\n",
      "max        4.076533\n",
      "Basic Statistics of Set 4                   0\n",
      "count  50000.000000\n",
      "mean       0.005755\n",
      "std        0.995411\n",
      "min       -3.882310\n",
      "25%       -0.666872\n",
      "50%        0.008872\n",
      "75%        0.684798\n",
      "max        3.987774\n"
     ]
    }
   ],
   "source": [
    "plt.hist(Hist_RANDN_1, bins = 100)\n",
    "plt.title('Histogram of 50000 random numbers (Set 3)')\n",
    "plt.show()\n",
    "plt.hist(Hist_RANDN_2, bins = 100)\n",
    "plt.title('Histogram of 50000 random numbers (Set 4)')\n",
    "plt.show()\n",
    "\n",
    "df_1 = pd.DataFrame(Hist_RANDN_1)\n",
    "print(\"Basic Statistics of Set 3\",df_1.describe())\n",
    "\n",
    "df_2 = pd.DataFrame(Hist_RANDN_2)\n",
    "print(\"Basic Statistics of Set 4\",df_2.describe())"
   ]
  },
  {
   "cell_type": "markdown",
   "metadata": {},
   "source": [
    "## np.random.randint()\n",
    "\n",
    "The *numpy.random.randint* function produces random integers from low (inclusive) to high (exclusive). These can be generated as a single integer or as multiple integers within a given size."
   ]
  },
  {
   "cell_type": "code",
   "execution_count": 10,
   "metadata": {},
   "outputs": [
    {
     "name": "stdout",
     "output_type": "stream",
     "text": [
      "Random Number 1:  41508\n",
      "Random Number 2:  15344\n",
      "Random Number 3:  21017\n",
      "Random Number 4:  41365\n",
      "Random Number 5:  32371\n",
      "Random Number 6:  7271\n",
      "Random Number (7) between 5 and 10:  9\n",
      "Random Number (8) between 5 and 10:  7\n",
      "Random Number (9) between 5 and 10:  6\n",
      "Random Number Array (10) between 5 and 10, n=10:  [6 5 8 9 8 7 9 9 5 9]\n",
      "Random Number Array (11) between 5 and 10, n=10:  [ 9  7  6  9  6  5 10  9  9  7]\n",
      "Random Number Array (12) between 5 and 10, n=10:  [ 7  8  8 10  8  7  8  8  5  9]\n"
     ]
    }
   ],
   "source": [
    "Hist_RAND_INT_1 = np.random.randint(50000)\n",
    "Hist_RAND_INT_2 = np.random.randint(50000)\n",
    "Hist_RAND_INT_3 = np.random.randint(50000)\n",
    "Hist_RAND_INT_4 = np.random.randint(50000)\n",
    "Hist_RAND_INT_5 = np.random.randint(50000)\n",
    "Hist_RAND_INT_6 = np.random.randint(50000)\n",
    "\n",
    "print(\"Random Number 1: \", Hist_RAND_INT_1)\n",
    "print(\"Random Number 2: \", Hist_RAND_INT_2)\n",
    "print(\"Random Number 3: \", Hist_RAND_INT_3)\n",
    "print(\"Random Number 4: \", Hist_RAND_INT_4)\n",
    "print(\"Random Number 5: \", Hist_RAND_INT_5)\n",
    "print(\"Random Number 6: \", Hist_RAND_INT_6)\n",
    "\n",
    "Hist_RAND_INT_7 = np.random.randint(5, high=11)\n",
    "Hist_RAND_INT_8 = np.random.randint(5, high=11)\n",
    "Hist_RAND_INT_9 = np.random.randint(5, high=11)\n",
    "\n",
    "print(\"Random Number (7) between 5 and 10: \", Hist_RAND_INT_7)\n",
    "print(\"Random Number (8) between 5 and 10: \", Hist_RAND_INT_8)\n",
    "print(\"Random Number (9) between 5 and 10: \", Hist_RAND_INT_9)\n",
    "\n",
    "Hist_RAND_INT_10 = np.random.randint(5, high=11, size=10)\n",
    "Hist_RAND_INT_11 = np.random.randint(5, high=11, size=10)\n",
    "Hist_RAND_INT_12 = np.random.randint(5, high=11, size=10)\n",
    "\n",
    "print(\"Random Number Array (10) between 5 and 10, n=10: \", Hist_RAND_INT_10)\n",
    "print(\"Random Number Array (11) between 5 and 10, n=10: \", Hist_RAND_INT_11)\n",
    "print(\"Random Number Array (12) between 5 and 10, n=10: \", Hist_RAND_INT_12)"
   ]
  },
  {
   "cell_type": "markdown",
   "metadata": {},
   "source": [
    "## numpy.random.choice()\n",
    "\n",
    "The *numpy.random.choice()* function works in a similar way to the *numpy.random.randint* function but rather than selecting intgers, it produces a random choice between an array or list of strings."
   ]
  },
  {
   "cell_type": "code",
   "execution_count": 11,
   "metadata": {},
   "outputs": [
    {
     "name": "stdout",
     "output_type": "stream",
     "text": [
      "Random Colour Choice 1:  red\n",
      "Random Colour Choice 2:  red\n",
      "Random Colour Choice 3:  green\n",
      "Random Colour Choice (4), n=5:  ['green' 'blue' 'red' 'green' 'green']\n",
      "Random Colour Choice (5), n=5:  ['red' 'yellow' 'green' 'blue' 'blue']\n",
      "Random Colour Choice (6), n=5:  ['red' 'green' 'green' 'red' 'green']\n"
     ]
    }
   ],
   "source": [
    "colours = ['blue', 'green', 'yellow', 'red']\n",
    "\n",
    "Hist_RAND_Col_1 = np.random.choice(colours)\n",
    "Hist_RAND_Col_2 = np.random.choice(colours)\n",
    "Hist_RAND_Col_3 = np.random.choice(colours)\n",
    "\n",
    "print(\"Random Colour Choice 1: \", Hist_RAND_Col_1)\n",
    "print(\"Random Colour Choice 2: \", Hist_RAND_Col_2)\n",
    "print(\"Random Colour Choice 3: \", Hist_RAND_Col_3)\n",
    "\n",
    "Hist_RAND_Col_4 = np.random.choice(colours, size=5)\n",
    "Hist_RAND_Col_5 = np.random.choice(colours, size=5)\n",
    "Hist_RAND_Col_6 = np.random.choice(colours, size=5)\n",
    "\n",
    "print(\"Random Colour Choice (4), n=5: \", Hist_RAND_Col_4)\n",
    "print(\"Random Colour Choice (5), n=5: \", Hist_RAND_Col_5)\n",
    "print(\"Random Colour Choice (6), n=5: \", Hist_RAND_Col_6)"
   ]
  },
  {
   "cell_type": "markdown",
   "metadata": {},
   "source": [
    "## Permutations\n",
    "\n",
    "This section of the *numpy.random* documentation [3] contains two functions: *numpy.random.shuffle* and *numpy.random.permutation*. \n",
    "\n",
    "## numpy.random.shuffle\n",
    "\n",
    "The *numpy.random.shuffle* function modifies a sequence by shuffling its contents. Only the first axis of a multi-dimensional array is shuffled. This function changes the original data."
   ]
  },
  {
   "cell_type": "code",
   "execution_count": 12,
   "metadata": {},
   "outputs": [
    {
     "name": "stdout",
     "output_type": "stream",
     "text": [
      "Set 1, n=5:  [1, 2, 3, 4, 5]\n",
      "Shuffled Set 1, n=5:  [3, 1, 2, 5, 4]\n",
      "Shuffled Set 2, n=5:  [3, 1, 4, 5, 2]\n",
      "Shuffled Set 3, n=5:  [1, 2, 5, 4, 3]\n",
      "Array 1, n=16, Shape = 4x4:  [[ 0  1  2  3]\n",
      " [ 4  5  6  7]\n",
      " [ 8  9 10 11]\n",
      " [12 13 14 15]]\n",
      "Shuffled Array 1, n=16, Shape = 4x4:  [[ 0  1  2  3]\n",
      " [ 8  9 10 11]\n",
      " [ 4  5  6  7]\n",
      " [12 13 14 15]]\n"
     ]
    }
   ],
   "source": [
    "Shuf = [1, 2, 3, 4, 5]\n",
    "\n",
    "print(\"Set 1, n=5: \", Shuf)\n",
    "np.random.shuffle(Shuf)\n",
    "\n",
    "print(\"Shuffled Set 1, n=5: \", Shuf)\n",
    "np.random.shuffle(Shuf)\n",
    "\n",
    "print(\"Shuffled Set 2, n=5: \", Shuf)\n",
    "np.random.shuffle(Shuf)\n",
    "\n",
    "print(\"Shuffled Set 3, n=5: \", Shuf)\n",
    "\n",
    "Shuf_Ar = np.arange(16).reshape((4, 4))\n",
    "print(\"Array 1, n=16, Shape = 4x4: \", Shuf_Ar)\n",
    "\n",
    "np.random.shuffle(Shuf_Ar)\n",
    "print(\"Shuffled Array 1, n=16, Shape = 4x4: \", Shuf_Ar)\n"
   ]
  },
  {
   "cell_type": "markdown",
   "metadata": {},
   "source": [
    "## numpy.random.permutation\n",
    "\n",
    "The *numpy.random.permutation* function acts in a similiar manner to the *numpy.random.shuffle* function. However, original data remains unchanged."
   ]
  },
  {
   "cell_type": "code",
   "execution_count": 13,
   "metadata": {},
   "outputs": [
    {
     "name": "stdout",
     "output_type": "stream",
     "text": [
      "Set 1, n=5:  [1, 2, 3, 4, 5]\n",
      "Permutation Set 1, n=5:  [2 4 1 5 3]\n",
      "Permutation Set 2, n=5:  [4 3 5 2 1]\n",
      "Permutation Set 3, n=5:  [3 4 2 5 1]\n",
      "Array 1, n=16, Shape = 4x4:  [[ 0  1  2  3]\n",
      " [ 4  5  6  7]\n",
      " [ 8  9 10 11]\n",
      " [12 13 14 15]]\n",
      "Permutation Array 1, n=16, Shape = 4x4:  [[ 4  5  6  7]\n",
      " [ 8  9 10 11]\n",
      " [12 13 14 15]\n",
      " [ 0  1  2  3]]\n"
     ]
    }
   ],
   "source": [
    "Perm = [1, 2, 3, 4, 5]\n",
    "Perm_1 = np.random.permutation(Perm)\n",
    "Perm_2 = np.random.permutation(Perm)\n",
    "Perm_3 = np.random.permutation(Perm)\n",
    "\n",
    "\n",
    "print(\"Set 1, n=5: \", Perm)\n",
    "print(\"Permutation Set 1, n=5: \", Perm_1)\n",
    "print(\"Permutation Set 2, n=5: \", Perm_2)\n",
    "print(\"Permutation Set 3, n=5: \", Perm_3)\n",
    "\n",
    "\n",
    "Perm_Ar = np.arange(16).reshape((4, 4))\n",
    "Perm_Ar_1 = np.random.permutation(Perm_Ar)\n",
    "\n",
    "print(\"Array 1, n=16, Shape = 4x4: \", Perm_Ar)\n",
    "print(\"Permutation Array 1, n=16, Shape = 4x4: \", Perm_Ar_1)\n"
   ]
  },
  {
   "cell_type": "markdown",
   "metadata": {},
   "source": [
    "## Distributions\n",
    "\n",
    "The *np.random.rand()* function and the *np.random.randn()* function, described above, produce uniform and normal distributions respectively. However the *np.random* documentation [3] have simplier methods for creating several distributions. \n",
    "\n",
    "The following will be assessed and explained:\n",
    "1. Gaussian\n",
    "2. Poisson\n",
    "3. Laplace \n",
    "4. Exponential \n",
    "5. Rayleigh \n",
    "\n",
    "## Gaussian Distributions\n",
    "\n",
    "More commonly known as Normal Distribution, the Gaussian Distribution consists of data that is distributed with no bias left or right. When plotted in a histogram, a *Bell Curve* shape can be clearly seen. There are many datasets in life that follow a Gaussian Distribution. Some of these include:\n",
    "1. Heights of People\n",
    "2. Test Scores\n",
    "3. Error Measurements\n",
    "\n",
    "Data is said to follow a Normal Distribution when 50% of values less than the mean and 50% greater than the mean. [4]\n",
    "\n",
    "## Poisson Distribution\n",
    "The Poisson distribution calculated using the discrete probability distribution. It is the number of events occurring in a given time period, given the average number of times the event occurs over that time period. [6]\n",
    "There are a number of conditions for Poisson Distribution:\n",
    "1.\tThere can be any number of events at a given time.\n",
    "2.\tEvents must be independent i.e. one event occurring does not affect another from occurring. An example would be the number of people arriving to a drive-through at a given time. \n",
    "3.\tThe rate of occurrence is a constant.\n",
    "4.\tThe probability of an event occurring is proportional to the length of the time period i.e. if the time period doubles, so too does the probability that the event will occur.\n",
    "\n",
    "\n",
    "## Laplace Distribution\n",
    "The Laplace distribution is similar to the Gaussian Distribution, but is sharper at the peak and has fatter tails. It represents the difference between two independent, identically distributed exponential random variables.  [7] This distribution occurs naturally as the distribution of the difference of two independent, identically distributed exponential variables. It is due to this that the distribution is also called the double exponential distribution. [8]\n",
    "\n"
   ]
  },
  {
   "cell_type": "code",
   "execution_count": 61,
   "metadata": {},
   "outputs": [
    {
     "data": {
      "image/png": "[encoded data removed]",
      "text/plain": [
       "<matplotlib.figure.Figure at 0x2ca176fc240>"
      ]
     },
     "metadata": {},
     "output_type": "display_data"
    },
    {
     "data": {
      "image/png": "[encoded data removed]",
      "text/plain": [
       "<matplotlib.figure.Figure at 0x2ca1764d630>"
      ]
     },
     "metadata": {},
     "output_type": "display_data"
    },
    {
     "data": {
      "image/png": "[encoded data removed]",
      "text/plain": [
       "<matplotlib.figure.Figure at 0x2ca1774ed30>"
      ]
     },
     "metadata": {},
     "output_type": "display_data"
    }
   ],
   "source": [
    "# Adapted from [5]\n",
    "\n",
    "mu, sigma = 0.5, 0.1\n",
    "s = np.random.normal(mu, sigma, 1000)\n",
    "\n",
    "# Create the bins and histogram\n",
    "count, bins, ignored = plt.hist(s, 20, normed=True)\n",
    "\n",
    "# Plot the distribution curve\n",
    "plt.plot(bins, 1/(sigma * np.sqrt(2 * np.pi)) *\n",
    "    np.exp( - (bins - mu)**2 / (2 * sigma**2) ),    linewidth=3, color='g')\n",
    "plt.title('Gaussian Distribution')\n",
    "plt.show()\n",
    "\n",
    "t = np.random.poisson(10, 10000)\n",
    "\n",
    "# Create the bins and histogram\n",
    "count, bins, ignored = plt.hist(t, 25, normed=True)\n",
    "plt.title('Poisson Distribution')\n",
    "plt.show()\n",
    "\n",
    "# Laplace - Adapted from [9] \n",
    "\n",
    "loc, scale = 0., 1.\n",
    "s = np.random.laplace(loc, scale, 1000)\n",
    "count, bins, ignored = plt.hist(s, 30, normed=True)\n",
    "x = np.arange(-8., 8., .01)\n",
    "pdf = np.exp(-abs(x-loc)/scale)/(2.*scale)\n",
    "plt.plot(x, pdf)\n",
    "plt.title('Laplace Distribution')\n",
    "plt.show()"
   ]
  },
  {
   "cell_type": "markdown",
   "metadata": {},
   "source": [
    "## References\n",
    "\n",
    "1. https://www.safaribooksonline.com/library/view/python-data-analysis/9781783553358/ch03s05.html\n",
    "2. https://engineering.ucsb.edu/~shell/che210d/numpy.\n",
    "3. https://docs.scipy.org/doc/numpy-1.15.1/reference/routines.random.html\n",
    "4. https://www.mathsisfun.com/data/standard-normal-distribution.html\n",
    "5. https://www.tutorialspoint.com/python/python_normal_distribution.htm\n",
    "6. https://brilliant.org/wiki/poisson-distribution/\n",
    "7. https://docs.scipy.org/doc/numpy-1.15.1/reference/generated/numpy.random.laplace.html#numpy.random.laplace\n",
    "8. http://www.randomservices.org/random/special/Laplace.html\n",
    "9. https://www.w3cschool.cn/doc_numpy_1_13/numpy_1_13-generated-numpy-random-laplace.html"
   ]
  }
 ],
 "metadata": {
  "kernelspec": {
   "display_name": "Python 3",
   "language": "python",
   "name": "python3"
  },
  "language_info": {
   "codemirror_mode": {
    "name": "ipython",
    "version": 3
   },
   "file_extension": ".py",
   "mimetype": "text/x-python",
   "name": "python",
   "nbconvert_exporter": "python",
   "pygments_lexer": "ipython3",
   "version": "3.6.3"
  }
 },
 "nbformat": 4,
 "nbformat_minor": 2
}
