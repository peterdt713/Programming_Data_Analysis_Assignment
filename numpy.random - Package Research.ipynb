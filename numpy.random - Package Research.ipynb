{
 "cells": [
  {
   "cell_type": "markdown",
   "metadata": {
    "collapsed": true
   },
   "source": [
    "# numpy.random - Package Research\n",
    "\n",
    "## Assignment Details\n",
    "\n",
    "The purpose of this Jupyter notebook is to conduct research into the use of the *numpy.random* package.\n",
    "\n",
    "Per the assignment, there are four distinct tasks to be completed:\n",
    "\n",
    "1. Explain the overall purpose of the package.\n",
    "2. Explain the use of the “Simple random data” and “Permutations” functions.\n",
    "3. Explain the use and purpose of at least five “Distributions” functions.\n",
    "4. Explain the use of seeds in generating pseudorandom numbers."
   ]
  },
  {
   "cell_type": "markdown",
   "metadata": {},
   "source": [
    "## Purpose of the package\n",
    "\n",
    "*numpy.random* is utilised to generate pseudo-random numbers which are generated based on the Mersenne Twister algorithm. Pseudo-random numbers are sufficent for most purposes as real random numbers are difficult to produce. [1] These numbers are considered pseudo random, as opposed to random, as they are generated deterministically from a seed number. Per the introduction to numpy documentation [2],  the numbers are then  distributed  in a random fashion which has statistical similarities to true random numbers. \n",
    "\n",
    "The *numpy.random* subpackage contains a number of fuctions which allow the generation intergers or floats. Per the documentation page, there are four sections which provide an explanation into these functions. Within this notebook, a few of these functions will be analysed and explained. [3]\n",
    "\n"
   ]
  },
  {
   "cell_type": "markdown",
   "metadata": {},
   "source": [
    "## Simple Random Data\n",
    "\n",
    "This section of the *numpy.random* documentation [3] contains several functions that can be utilized to generate random numbers and / or random selections from a list of strings.\n"
   ]
  },
  {
   "cell_type": "code",
   "execution_count": 1,
   "metadata": {
    "collapsed": true
   },
   "outputs": [],
   "source": [
    "import matplotlib\n",
    "import numpy as np\n",
    "import matplotlib.pyplot as plt\n",
    "import pandas as pd\n",
    "%matplotlib inline"
   ]
  },
  {
   "cell_type": "markdown",
   "metadata": {},
   "source": [
    "## np.random.rand()\n",
    "\n",
    "The * np.random.rand()* function creates an array, of a given shape defined by the user, and subsequently populates it with random numbers. The numbers produced are of uniform distribution from *[0, 1)* i.e. 0 < x ≥ 1.\n",
    "\n",
    "See the arrays below that have be procuded in different shapes."
   ]
  },
  {
   "cell_type": "code",
   "execution_count": 2,
   "metadata": {
    "collapsed": true
   },
   "outputs": [],
   "source": [
    "RAND_1a = np.random.rand(5)\n",
    "RAND_1b = np.random.rand(5)\n",
    "\n",
    "RAND_2a = np.random.rand(5,2)\n",
    "RAND_2b = np.random.rand(5,2)\n",
    "\n",
    "RAND_3a = np.random.rand(5,2,2)\n",
    "RAND_3b = np.random.rand(5,2,2)\n",
    "\n",
    "RAND_4a = np.random.rand(5,2,2,2)\n",
    "RAND_4b = np.random.rand(5,2,2,2)"
   ]
  },
  {
   "cell_type": "code",
   "execution_count": 3,
   "metadata": {},
   "outputs": [
    {
     "name": "stdout",
     "output_type": "stream",
     "text": [
      "Array 1: [ 0.80845693  0.55438238  0.86166144  0.61929515  0.37654281]\n",
      "Array 2: [ 0.13183795  0.53576955  0.14224035  0.27059999  0.5090004 ]\n"
     ]
    }
   ],
   "source": [
    "print(\"Array 1:\",RAND_1a)\n",
    "print(\"Array 2:\",RAND_1b)"
   ]
  },
  {
   "cell_type": "markdown",
   "metadata": {},
   "source": [
    "By producing two arrays at the same time, and by using identical coding, the random number generation can be clearly seen. This becomes more difficult to visualize with larger arrays and with those of different shapes."
   ]
  },
  {
   "cell_type": "code",
   "execution_count": 4,
   "metadata": {},
   "outputs": [
    {
     "name": "stdout",
     "output_type": "stream",
     "text": [
      "Array 3: [[ 0.74819039  0.12826247]\n",
      " [ 0.89486939  0.88482944]\n",
      " [ 0.65951014  0.11638486]\n",
      " [ 0.63449957  0.95065882]\n",
      " [ 0.75053753  0.91204267]]\n",
      "Array 4: [[ 0.81717677  0.97458261]\n",
      " [ 0.05812024  0.08056734]\n",
      " [ 0.8258282   0.23104953]\n",
      " [ 0.13249803  0.25975596]\n",
      " [ 0.21307159  0.63540384]]\n"
     ]
    }
   ],
   "source": [
    "print(\"Array 3:\",RAND_2a)\n",
    "print(\"Array 4:\",RAND_2b)"
   ]
  },
  {
   "cell_type": "code",
   "execution_count": 5,
   "metadata": {},
   "outputs": [
    {
     "name": "stdout",
     "output_type": "stream",
     "text": [
      "Array 5: [[[ 0.80912725  0.80155104]\n",
      "  [ 0.12709148  0.85289603]]\n",
      "\n",
      " [[ 0.91038659  0.67573774]\n",
      "  [ 0.57982171  0.30628856]]\n",
      "\n",
      " [[ 0.20149777  0.72848246]\n",
      "  [ 0.15854713  0.20623843]]\n",
      "\n",
      " [[ 0.01707122  0.78800989]\n",
      "  [ 0.67046991  0.79243977]]\n",
      "\n",
      " [[ 0.86990056  0.99818452]\n",
      "  [ 0.04829739  0.6835041 ]]]\n",
      "Array 6: [[[ 0.14943665  0.85664234]\n",
      "  [ 0.36473654  0.03046706]]\n",
      "\n",
      " [[ 0.80366162  0.27072287]\n",
      "  [ 0.26796356  0.43718721]]\n",
      "\n",
      " [[ 0.52101385  0.05409004]\n",
      "  [ 0.22423383  0.32560997]]\n",
      "\n",
      " [[ 0.28185408  0.47215665]\n",
      "  [ 0.63878686  0.46957837]]\n",
      "\n",
      " [[ 0.8604228   0.7345986 ]\n",
      "  [ 0.05089319  0.89982801]]]\n"
     ]
    }
   ],
   "source": [
    "print(\"Array 5:\",RAND_3a)\n",
    "print(\"Array 6:\",RAND_3b)"
   ]
  },
  {
   "cell_type": "code",
   "execution_count": 6,
   "metadata": {},
   "outputs": [
    {
     "name": "stdout",
     "output_type": "stream",
     "text": [
      "Array 7: [[[[ 0.65238892  0.14447128]\n",
      "   [ 0.46288249  0.83178489]]\n",
      "\n",
      "  [[ 0.01151145  0.40872872]\n",
      "   [ 0.63621793  0.72638198]]]\n",
      "\n",
      "\n",
      " [[[ 0.6079514   0.64005094]\n",
      "   [ 0.96772501  0.96964828]]\n",
      "\n",
      "  [[ 0.36434792  0.56772166]\n",
      "   [ 0.66918508  0.56453971]]]\n",
      "\n",
      "\n",
      " [[[ 0.80155573  0.66460907]\n",
      "   [ 0.08414761  0.43923843]]\n",
      "\n",
      "  [[ 0.95050066  0.40597545]\n",
      "   [ 0.30909651  0.64956261]]]\n",
      "\n",
      "\n",
      " [[[ 0.72959774  0.88340605]\n",
      "   [ 0.13700422  0.22207863]]\n",
      "\n",
      "  [[ 0.2025297   0.42905447]\n",
      "   [ 0.82076096  0.38281921]]]\n",
      "\n",
      "\n",
      " [[[ 0.51127925  0.0287345 ]\n",
      "   [ 0.32697478  0.83975648]]\n",
      "\n",
      "  [[ 0.82350376  0.79351381]\n",
      "   [ 0.68478441  0.24881958]]]]\n",
      "Array 8: [[[[ 0.21986532  0.05580786]\n",
      "   [ 0.90563736  0.69399886]]\n",
      "\n",
      "  [[ 0.45057887  0.83361516]\n",
      "   [ 0.2137906   0.58227832]]]\n",
      "\n",
      "\n",
      " [[[ 0.64181752  0.71354677]\n",
      "   [ 0.70694941  0.66708493]]\n",
      "\n",
      "  [[ 0.93646765  0.52616865]\n",
      "   [ 0.17444667  0.48890605]]]\n",
      "\n",
      "\n",
      " [[[ 0.79308265  0.55193631]\n",
      "   [ 0.48044501  0.98865961]]\n",
      "\n",
      "  [[ 0.26264312  0.68422949]\n",
      "   [ 0.38273814  0.5732661 ]]]\n",
      "\n",
      "\n",
      " [[[ 0.77832873  0.59036797]\n",
      "   [ 0.10685346  0.36286216]]\n",
      "\n",
      "  [[ 0.07963675  0.02380101]\n",
      "   [ 0.48331521  0.98100409]]]\n",
      "\n",
      "\n",
      " [[[ 0.90737218  0.5754673 ]\n",
      "   [ 0.33713265  0.52470894]]\n",
      "\n",
      "  [[ 0.60878451  0.91929882]\n",
      "   [ 0.55376922  0.11997322]]]]\n"
     ]
    }
   ],
   "source": [
    "print(\"Array 7:\",RAND_4a)\n",
    "print(\"Array 8:\",RAND_4b)"
   ]
  },
  {
   "cell_type": "code",
   "execution_count": 7,
   "metadata": {},
   "outputs": [
    {
     "data": {
      "image/png": "[encoded data removed]",
      "text/plain": [
       "<matplotlib.figure.Figure at 0x25e55475828>"
      ]
     },
     "metadata": {},
     "output_type": "display_data"
    },
    {
     "data": {
      "image/png": "[encoded data removed]",
      "text/plain": [
       "<matplotlib.figure.Figure at 0x25e5529f470>"
      ]
     },
     "metadata": {},
     "output_type": "display_data"
    },
    {
     "name": "stdout",
     "output_type": "stream",
     "text": [
      "Basic Statistics of Set 1                   0\n",
      "count  50000.000000\n",
      "mean       0.501683\n",
      "std        0.289176\n",
      "min        0.000006\n",
      "25%        0.251387\n",
      "50%        0.503704\n",
      "75%        0.752088\n",
      "max        0.999984\n",
      "Basic Statistics of Set 2                   0\n",
      "count  50000.000000\n",
      "mean       0.500648\n",
      "std        0.288894\n",
      "min        0.000008\n",
      "25%        0.250713\n",
      "50%        0.502270\n",
      "75%        0.749245\n",
      "max        0.999995\n"
     ]
    }
   ],
   "source": [
    "Hist_RAND_1 = np.random.rand(50000)\n",
    "Hist_RAND_2 = np.random.rand(50000)\n",
    "\n",
    "plt.hist(Hist_RAND_1, bins = 10)\n",
    "plt.title('Histogram of 50000 random numbers (Set 1)')\n",
    "plt.show()\n",
    "plt.hist(Hist_RAND_2, bins = 10)\n",
    "plt.title('Histogram of 50000 random numbers (Set 2)')\n",
    "plt.show()\n",
    "\n",
    "df_1 = pd.DataFrame(Hist_RAND_1)\n",
    "print(\"Basic Statistics of Set 1\",df_1.describe())\n",
    "\n",
    "df_2 = pd.DataFrame(Hist_RAND_2)\n",
    "print(\"Basic Statistics of Set 2\",df_2.describe())"
   ]
  },
  {
   "cell_type": "markdown",
   "metadata": {},
   "source": [
    "By plotting two histograms of Set 1 and Set 2 and by producing some basic descriptive statistics of the two datasets, the uniform distribution can be visualized. It can also be seen that the datasets have slight differences in what numbers were randomly generated."
   ]
  },
  {
   "cell_type": "markdown",
   "metadata": {
    "collapsed": true
   },
   "source": [
    "## np.random.randn()\n",
    "\n",
    "Similarly to the *np.random.rand()* function, the *np.random.randn()* function produces an array of random numbers within a user inputted size and shape. The difference between the two functions is that the *np.random.randn()* function produces random numbers that will always follow a Gaussian distribution, i.e. a Normal Distribution, with a mean of 0 and a variance of 1. \n"
   ]
  },
  {
   "cell_type": "code",
   "execution_count": 8,
   "metadata": {},
   "outputs": [
    {
     "data": {
      "image/png": "[encoded data removed]",
      "text/plain": [
       "<matplotlib.figure.Figure at 0x25e54069780>"
      ]
     },
     "metadata": {},
     "output_type": "display_data"
    },
    {
     "data": {
      "image/png": "[encoded data removed]",
      "text/plain": [
       "<matplotlib.figure.Figure at 0x25e554f5c18>"
      ]
     },
     "metadata": {},
     "output_type": "display_data"
    },
    {
     "name": "stdout",
     "output_type": "stream",
     "text": [
      "Basic Statistics of Set 3                   0\n",
      "count  50000.000000\n",
      "mean       0.004597\n",
      "std        0.998745\n",
      "min       -3.971654\n",
      "25%       -0.671227\n",
      "50%        0.004137\n",
      "75%        0.675888\n",
      "max        4.374021\n",
      "Basic Statistics of Set 4                   0\n",
      "count  50000.000000\n",
      "mean      -0.006215\n",
      "std        0.998202\n",
      "min       -4.160810\n",
      "25%       -0.685221\n",
      "50%       -0.004146\n",
      "75%        0.663411\n",
      "max        3.732241\n"
     ]
    }
   ],
   "source": [
    "Hist_RANDN_1 = np.random.randn(50000)\n",
    "Hist_RANDN_2 = np.random.randn(50000)\n",
    "\n",
    "plt.hist(Hist_RANDN_1, bins = 10)\n",
    "plt.title('Histogram of 50000 random numbers (Set 3)')\n",
    "plt.show()\n",
    "plt.hist(Hist_RANDN_2, bins = 10)\n",
    "plt.title('Histogram of 50000 random numbers (Set 4)')\n",
    "plt.show()\n",
    "\n",
    "df_1 = pd.DataFrame(Hist_RANDN_1)\n",
    "print(\"Basic Statistics of Set 3\",df_1.describe())\n",
    "\n",
    "df_2 = pd.DataFrame(Hist_RANDN_2)\n",
    "print(\"Basic Statistics of Set 4\",df_2.describe())"
   ]
  },
  {
   "cell_type": "markdown",
   "metadata": {},
   "source": [
    "From viewing the histograms produced for datasets 3 and 4, it can be clearly noted that the *np.random.randn()* function produces data that follow much different distribution that the *np.random.rand()* function.  By increasing the bins values, a bell curve shape will begin to form this is typical of data that follows a normal distribution."
   ]
  },
  {
   "cell_type": "code",
   "execution_count": 9,
   "metadata": {},
   "outputs": [
    {
     "data": {
      "image/png": "[encoded data removed]",
      "text/plain": [
       "<matplotlib.figure.Figure at 0x25e55475518>"
      ]
     },
     "metadata": {},
     "output_type": "display_data"
    },
    {
     "data": {
      "image/png": "[encoded data removed]",
      "text/plain": [
       "<matplotlib.figure.Figure at 0x25e55475438>"
      ]
     },
     "metadata": {},
     "output_type": "display_data"
    },
    {
     "name": "stdout",
     "output_type": "stream",
     "text": [
      "Basic Statistics of Set 3                   0\n",
      "count  50000.000000\n",
      "mean       0.004597\n",
      "std        0.998745\n",
      "min       -3.971654\n",
      "25%       -0.671227\n",
      "50%        0.004137\n",
      "75%        0.675888\n",
      "max        4.374021\n",
      "Basic Statistics of Set 4                   0\n",
      "count  50000.000000\n",
      "mean      -0.006215\n",
      "std        0.998202\n",
      "min       -4.160810\n",
      "25%       -0.685221\n",
      "50%       -0.004146\n",
      "75%        0.663411\n",
      "max        3.732241\n"
     ]
    }
   ],
   "source": [
    "plt.hist(Hist_RANDN_1, bins = 100)\n",
    "plt.title('Histogram of 50000 random numbers (Set 3)')\n",
    "plt.show()\n",
    "plt.hist(Hist_RANDN_2, bins = 100)\n",
    "plt.title('Histogram of 50000 random numbers (Set 4)')\n",
    "plt.show()\n",
    "\n",
    "df_1 = pd.DataFrame(Hist_RANDN_1)\n",
    "print(\"Basic Statistics of Set 3\",df_1.describe())\n",
    "\n",
    "df_2 = pd.DataFrame(Hist_RANDN_2)\n",
    "print(\"Basic Statistics of Set 4\",df_2.describe())"
   ]
  },
  {
   "cell_type": "markdown",
   "metadata": {},
   "source": [
    "## np.random.randint()\n",
    "\n",
    "The *numpy.random.randint* function produces random integers from low (inclusive) to high (exclusive). These can be generated as a single integer or as multiple integers within a given size."
   ]
  },
  {
   "cell_type": "code",
   "execution_count": 10,
   "metadata": {},
   "outputs": [
    {
     "name": "stdout",
     "output_type": "stream",
     "text": [
      "Random Number 1:  38901\n",
      "Random Number 2:  1911\n",
      "Random Number 3:  40345\n",
      "Random Number 4:  27913\n",
      "Random Number 5:  26766\n",
      "Random Number 6:  9138\n",
      "Random Number (7) between 5 and 10:  5\n",
      "Random Number (8) between 5 and 10:  6\n",
      "Random Number (9) between 5 and 10:  9\n",
      "Random Number Array (10) between 5 and 10, n=10:  [ 5 10  9  7  6  7  9  9  7  7]\n",
      "Random Number Array (11) between 5 and 10, n=10:  [9 6 8 7 9 5 6 8 5 9]\n",
      "Random Number Array (12) between 5 and 10, n=10:  [ 8  6  9 10  8  7 10  6  9  8]\n"
     ]
    }
   ],
   "source": [
    "Hist_RAND_INT_1 = np.random.randint(50000)\n",
    "Hist_RAND_INT_2 = np.random.randint(50000)\n",
    "Hist_RAND_INT_3 = np.random.randint(50000)\n",
    "Hist_RAND_INT_4 = np.random.randint(50000)\n",
    "Hist_RAND_INT_5 = np.random.randint(50000)\n",
    "Hist_RAND_INT_6 = np.random.randint(50000)\n",
    "\n",
    "print(\"Random Number 1: \", Hist_RAND_INT_1)\n",
    "print(\"Random Number 2: \", Hist_RAND_INT_2)\n",
    "print(\"Random Number 3: \", Hist_RAND_INT_3)\n",
    "print(\"Random Number 4: \", Hist_RAND_INT_4)\n",
    "print(\"Random Number 5: \", Hist_RAND_INT_5)\n",
    "print(\"Random Number 6: \", Hist_RAND_INT_6)\n",
    "\n",
    "Hist_RAND_INT_7 = np.random.randint(5, high=11)\n",
    "Hist_RAND_INT_8 = np.random.randint(5, high=11)\n",
    "Hist_RAND_INT_9 = np.random.randint(5, high=11)\n",
    "\n",
    "print(\"Random Number (7) between 5 and 10: \", Hist_RAND_INT_7)\n",
    "print(\"Random Number (8) between 5 and 10: \", Hist_RAND_INT_8)\n",
    "print(\"Random Number (9) between 5 and 10: \", Hist_RAND_INT_9)\n",
    "\n",
    "Hist_RAND_INT_10 = np.random.randint(5, high=11, size=10)\n",
    "Hist_RAND_INT_11 = np.random.randint(5, high=11, size=10)\n",
    "Hist_RAND_INT_12 = np.random.randint(5, high=11, size=10)\n",
    "\n",
    "print(\"Random Number Array (10) between 5 and 10, n=10: \", Hist_RAND_INT_10)\n",
    "print(\"Random Number Array (11) between 5 and 10, n=10: \", Hist_RAND_INT_11)\n",
    "print(\"Random Number Array (12) between 5 and 10, n=10: \", Hist_RAND_INT_12)"
   ]
  },
  {
   "cell_type": "markdown",
   "metadata": {},
   "source": [
    "## numpy.random.choice()\n",
    "\n",
    "The *numpy.random.choice()* function works in a similar way to the *numpy.random.randint* function but rather than selecting intgers, it produces a random choice between an array or list of strings."
   ]
  },
  {
   "cell_type": "code",
   "execution_count": 11,
   "metadata": {},
   "outputs": [
    {
     "name": "stdout",
     "output_type": "stream",
     "text": [
      "Random Colour Choice 1:  blue\n",
      "Random Colour Choice 2:  blue\n",
      "Random Colour Choice 3:  green\n",
      "Random Colour Choice (4), n=5:  ['green' 'blue' 'yellow' 'yellow' 'green']\n",
      "Random Colour Choice (5), n=5:  ['red' 'blue' 'yellow' 'yellow' 'yellow']\n",
      "Random Colour Choice (6), n=5:  ['red' 'blue' 'yellow' 'blue' 'red']\n"
     ]
    }
   ],
   "source": [
    "colours = ['blue', 'green', 'yellow', 'red']\n",
    "\n",
    "Hist_RAND_Col_1 = np.random.choice(colours)\n",
    "Hist_RAND_Col_2 = np.random.choice(colours)\n",
    "Hist_RAND_Col_3 = np.random.choice(colours)\n",
    "\n",
    "print(\"Random Colour Choice 1: \", Hist_RAND_Col_1)\n",
    "print(\"Random Colour Choice 2: \", Hist_RAND_Col_2)\n",
    "print(\"Random Colour Choice 3: \", Hist_RAND_Col_3)\n",
    "\n",
    "Hist_RAND_Col_4 = np.random.choice(colours, size=5)\n",
    "Hist_RAND_Col_5 = np.random.choice(colours, size=5)\n",
    "Hist_RAND_Col_6 = np.random.choice(colours, size=5)\n",
    "\n",
    "print(\"Random Colour Choice (4), n=5: \", Hist_RAND_Col_4)\n",
    "print(\"Random Colour Choice (5), n=5: \", Hist_RAND_Col_5)\n",
    "print(\"Random Colour Choice (6), n=5: \", Hist_RAND_Col_6)"
   ]
  },
  {
   "cell_type": "markdown",
   "metadata": {},
   "source": [
    "## Permutations\n",
    "\n",
    "This section of the *numpy.random* documentation [3] contains two functions: *numpy.random.shuffle* and *numpy.random.permutation*. \n",
    "\n",
    "## numpy.random.shuffle\n",
    "\n",
    "The *numpy.random.shuffle* function modifies a sequence by shuffling its contents. Only the first axis of a multi-dimensional array is shuffled. This function changes the original data."
   ]
  },
  {
   "cell_type": "code",
   "execution_count": 45,
   "metadata": {},
   "outputs": [
    {
     "name": "stdout",
     "output_type": "stream",
     "text": [
      "Set 1, n=5:  [1, 2, 3, 4, 5]\n",
      "Shuffled Set 1, n=5:  [4, 3, 5, 1, 2]\n",
      "Shuffled Set 2, n=5:  [1, 2, 4, 3, 5]\n",
      "Shuffled Set 3, n=5:  [3, 2, 1, 4, 5]\n",
      "Array 1, n=16, Shape = 4x4:  [[ 0  1  2  3]\n",
      " [ 4  5  6  7]\n",
      " [ 8  9 10 11]\n",
      " [12 13 14 15]]\n",
      "Shuffled Array 1, n=16, Shape = 4x4:  [[ 8  9 10 11]\n",
      " [ 4  5  6  7]\n",
      " [12 13 14 15]\n",
      " [ 0  1  2  3]]\n"
     ]
    }
   ],
   "source": [
    "Shuf = [1, 2, 3, 4, 5]\n",
    "\n",
    "print(\"Set 1, n=5: \", Shuf)\n",
    "np.random.shuffle(Shuf)\n",
    "\n",
    "print(\"Shuffled Set 1, n=5: \", Shuf)\n",
    "np.random.shuffle(Shuf)\n",
    "\n",
    "print(\"Shuffled Set 2, n=5: \", Shuf)\n",
    "np.random.shuffle(Shuf)\n",
    "\n",
    "print(\"Shuffled Set 3, n=5: \", Shuf)\n",
    "\n",
    "Shuf_Ar = np.arange(16).reshape((4, 4))\n",
    "print(\"Array 1, n=16, Shape = 4x4: \", Shuf_Ar)\n",
    "\n",
    "np.random.shuffle(Shuf_Ar)\n",
    "print(\"Shuffled Array 1, n=16, Shape = 4x4: \", Shuf_Ar)\n"
   ]
  },
  {
   "cell_type": "markdown",
   "metadata": {},
   "source": [
    "## numpy.random.permutation\n",
    "\n",
    "The *numpy.random.permutation* function acts in a similiar manner to the *numpy.random.shuffle* function. However, original data remains unchanged."
   ]
  },
  {
   "cell_type": "code",
   "execution_count": 48,
   "metadata": {},
   "outputs": [
    {
     "name": "stdout",
     "output_type": "stream",
     "text": [
      "Set 1, n=5:  [1, 2, 3, 4, 5]\n",
      "Permutation Set 1, n=5:  [5 3 4 2 1]\n",
      "Permutation Set 2, n=5:  [2 3 4 1 5]\n",
      "Permutation Set 3, n=5:  [2 1 4 5 3]\n",
      "Array 1, n=16, Shape = 4x4:  [[ 0  1  2  3]\n",
      " [ 4  5  6  7]\n",
      " [ 8  9 10 11]\n",
      " [12 13 14 15]]\n",
      "Permutation Array 1, n=16, Shape = 4x4:  [[ 0  1  2  3]\n",
      " [12 13 14 15]\n",
      " [ 4  5  6  7]\n",
      " [ 8  9 10 11]]\n"
     ]
    }
   ],
   "source": [
    "Perm = [1, 2, 3, 4, 5]\n",
    "Perm_1 = np.random.permutation(Perm)\n",
    "Perm_2 = np.random.permutation(Perm)\n",
    "Perm_3 = np.random.permutation(Perm)\n",
    "\n",
    "\n",
    "print(\"Set 1, n=5: \", Perm)\n",
    "print(\"Permutation Set 1, n=5: \", Perm_1)\n",
    "print(\"Permutation Set 2, n=5: \", Perm_2)\n",
    "print(\"Permutation Set 3, n=5: \", Perm_3)\n",
    "\n",
    "\n",
    "Perm_Ar = np.arange(16).reshape((4, 4))\n",
    "Perm_Ar_1 = np.random.permutation(Perm_Ar)\n",
    "\n",
    "print(\"Array 1, n=16, Shape = 4x4: \", Perm_Ar)\n",
    "print(\"Permutation Array 1, n=16, Shape = 4x4: \", Perm_Ar_1)\n"
   ]
  },
  {
   "cell_type": "markdown",
   "metadata": {},
   "source": [
    "## References\n",
    "\n",
    "1. https://www.safaribooksonline.com/library/view/python-data-analysis/9781783553358/ch03s05.html\n",
    "2. https://engineering.ucsb.edu/~shell/che210d/numpy.\n",
    "3. https://docs.scipy.org/doc/numpy-1.15.1/reference/routines.random.html"
   ]
  }
 ],
 "metadata": {
  "kernelspec": {
   "display_name": "Python 3",
   "language": "python",
   "name": "python3"
  },
  "language_info": {
   "codemirror_mode": {
    "name": "ipython",
    "version": 3
   },
   "file_extension": ".py",
   "mimetype": "text/x-python",
   "name": "python",
   "nbconvert_exporter": "python",
   "pygments_lexer": "ipython3",
   "version": "3.6.3"
  }
 },
 "nbformat": 4,
 "nbformat_minor": 2
}
