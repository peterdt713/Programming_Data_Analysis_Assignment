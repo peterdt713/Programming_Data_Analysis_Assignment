{
 "cells": [
  {
   "cell_type": "markdown",
   "metadata": {
    "collapsed": true
   },
   "source": [
    "# numpy.random - Package Research\n",
    "\n",
    "## Assignment Details\n",
    "\n",
    "The purpose of this Jupyter notebook is to conduct research into the use of the *numpy.random* package.\n",
    "\n",
    "Per the assignment, there are four distinct tasks to be completed:\n",
    "\n",
    "1. Explain the overall purpose of the package.\n",
    "2. Explain the use of the “Simple random data” and “Permutations” functions.\n",
    "3. Explain the use and purpose of at least five “Distributions” functions.\n",
    "4. Explain the use of seeds in generating pseudorandom numbers."
   ]
  },
  {
   "cell_type": "markdown",
   "metadata": {},
   "source": [
    "## Purpose of the package\n",
    "\n",
    "*numpy.random* is utilised to generate pseudo-random numbers which are generated based on the Mersenne Twister algorithm. Pseudo-random numbers are sufficent for most purposes as real random numbers are difficult to produce. [1] These numbers are considered pseudo random, as opposed to random, as they are generated deterministically from a seed number. Per the introduction to numpy documentation [2],  the numbers are then  distributed  in a random fashion which has statistical similarities to true random numbers. \n",
    "\n",
    "The *numpy.random* subpackage contains a number of fuctions which allow the generation intergers or floats. Per the documentation page, there are four sections which provide an explanation into these functions. Within this notebook, a few of these functions will be analysed and explained. [3]\n",
    "\n"
   ]
  },
  {
   "cell_type": "markdown",
   "metadata": {},
   "source": [
    "## Simple Random Data\n",
    "\n",
    "This section of the *numpy.random* documentation [3] contains several functions that can be utilized to generate random numbers and / or random selections from a list of strings.\n"
   ]
  },
  {
   "cell_type": "code",
   "execution_count": 90,
   "metadata": {
    "collapsed": true
   },
   "outputs": [],
   "source": [
    "import matplotlib\n",
    "import numpy as np\n",
    "import matplotlib.pyplot as plt\n",
    "import pandas as pd\n",
    "%matplotlib inline"
   ]
  },
  {
   "cell_type": "markdown",
   "metadata": {},
   "source": [
    "## np.random.rand()\n",
    "\n",
    "The * np.random.rand()* function creates an array, of a given shape defined by the user, and subsequently populates it with random numbers. The numbers produced are of uniform distribution from *[0, 1)* i.e. 0 < x ≥ 1.\n",
    "\n",
    "See the arrays below that have be procuded in different shapes."
   ]
  },
  {
   "cell_type": "code",
   "execution_count": 91,
   "metadata": {
    "collapsed": true
   },
   "outputs": [],
   "source": [
    "RAND_1a = np.random.rand(5)\n",
    "RAND_1b = np.random.rand(5)\n",
    "\n",
    "RAND_2a = np.random.rand(5,2)\n",
    "RAND_2b = np.random.rand(5,2)\n",
    "\n",
    "RAND_3a = np.random.rand(5,2,2)\n",
    "RAND_3b = np.random.rand(5,2,2)\n",
    "\n",
    "RAND_4a = np.random.rand(5,2,2,2)\n",
    "RAND_4b = np.random.rand(5,2,2,2)"
   ]
  },
  {
   "cell_type": "code",
   "execution_count": 92,
   "metadata": {},
   "outputs": [
    {
     "name": "stdout",
     "output_type": "stream",
     "text": [
      "Array 1: [ 0.76556312  0.82702149  0.78369528  0.37953795  0.22951668]\n",
      "Array 2: [ 0.04079794  0.18460056  0.83727465  0.33504644  0.66873043]\n"
     ]
    }
   ],
   "source": [
    "print(\"Array 1:\",RAND_1a)\n",
    "print(\"Array 2:\",RAND_1b)"
   ]
  },
  {
   "cell_type": "markdown",
   "metadata": {},
   "source": [
    "By producing two arrays at the same time, and by using identical coding, the random number generation can be clearly seen. This becomes more difficult to visualize with larger arrays and with those of different shapes."
   ]
  },
  {
   "cell_type": "code",
   "execution_count": 93,
   "metadata": {},
   "outputs": [
    {
     "name": "stdout",
     "output_type": "stream",
     "text": [
      "Array 3: [[ 0.73271757  0.94679138]\n",
      " [ 0.40307322  0.01058267]\n",
      " [ 0.45312515  0.20789055]\n",
      " [ 0.86374368  0.68552745]\n",
      " [ 0.20911396  0.04971146]]\n",
      "Array 4: [[ 0.50208759  0.89998631]\n",
      " [ 0.17586142  0.27483718]\n",
      " [ 0.50816455  0.33218973]\n",
      " [ 0.89359055  0.19127074]\n",
      " [ 0.33999063  0.23340512]]\n"
     ]
    }
   ],
   "source": [
    "print(\"Array 3:\",RAND_2a)\n",
    "print(\"Array 4:\",RAND_2b)"
   ]
  },
  {
   "cell_type": "code",
   "execution_count": 94,
   "metadata": {},
   "outputs": [
    {
     "name": "stdout",
     "output_type": "stream",
     "text": [
      "Array 5: [[[ 0.83614231  0.49656773]\n",
      "  [ 0.96717202  0.04511491]]\n",
      "\n",
      " [[ 0.49564027  0.8736023 ]\n",
      "  [ 0.43774875  0.78695189]]\n",
      "\n",
      " [[ 0.0784398   0.5339057 ]\n",
      "  [ 0.41597579  0.32179853]]\n",
      "\n",
      " [[ 0.10095978  0.74243156]\n",
      "  [ 0.12354332  0.20741257]]\n",
      "\n",
      " [[ 0.70004832  0.08020822]\n",
      "  [ 0.17415056  0.79727261]]]\n",
      "Array 6: [[[ 0.12408311  0.64170269]\n",
      "  [ 0.55929799  0.95634578]]\n",
      "\n",
      " [[ 0.76705158  0.69843413]\n",
      "  [ 0.51437617  0.37908009]]\n",
      "\n",
      " [[ 0.36070748  0.42120588]\n",
      "  [ 0.03113625  0.76066372]]\n",
      "\n",
      " [[ 0.51322842  0.44089276]\n",
      "  [ 0.81002905  0.04890713]]\n",
      "\n",
      " [[ 0.85021807  0.54938975]\n",
      "  [ 0.89959917  0.70431129]]]\n"
     ]
    }
   ],
   "source": [
    "print(\"Array 5:\",RAND_3a)\n",
    "print(\"Array 6:\",RAND_3b)"
   ]
  },
  {
   "cell_type": "code",
   "execution_count": 95,
   "metadata": {},
   "outputs": [
    {
     "name": "stdout",
     "output_type": "stream",
     "text": [
      "Array 7: [[[[ 0.64869976  0.85011481]\n",
      "   [ 0.45921164  0.6289351 ]]\n",
      "\n",
      "  [[ 0.06176863  0.04994943]\n",
      "   [ 0.03614136  0.0139191 ]]]\n",
      "\n",
      "\n",
      " [[[ 0.85834375  0.14007322]\n",
      "   [ 0.97806103  0.4721871 ]]\n",
      "\n",
      "  [[ 0.39299823  0.71766436]\n",
      "   [ 0.57258092  0.60980855]]]\n",
      "\n",
      "\n",
      " [[[ 0.68895218  0.99537916]\n",
      "   [ 0.36683088  0.5767048 ]]\n",
      "\n",
      "  [[ 0.14196231  0.22273425]\n",
      "   [ 0.16987891  0.82975907]]]\n",
      "\n",
      "\n",
      " [[[ 0.23794563  0.54293875]\n",
      "   [ 0.21627619  0.95482536]]\n",
      "\n",
      "  [[ 0.93570453  0.88457445]\n",
      "   [ 0.61437085  0.05250423]]]\n",
      "\n",
      "\n",
      " [[[ 0.20980174  0.58291938]\n",
      "   [ 0.13568115  0.0798735 ]]\n",
      "\n",
      "  [[ 0.16296073  0.08229411]\n",
      "   [ 0.27405071  0.98138108]]]]\n",
      "Array 8: [[[[ 0.01800037  0.06439101]\n",
      "   [ 0.03084663  0.82665478]]\n",
      "\n",
      "  [[ 0.09869628  0.62795443]\n",
      "   [ 0.73085299  0.28436432]]]\n",
      "\n",
      "\n",
      " [[[ 0.09516468  0.46656493]\n",
      "   [ 0.74925347  0.89500291]]\n",
      "\n",
      "  [[ 0.43677084  0.22815896]\n",
      "   [ 0.9218257   0.06266728]]]\n",
      "\n",
      "\n",
      " [[[ 0.64450722  0.49471593]\n",
      "   [ 0.36208612  0.26698405]]\n",
      "\n",
      "  [[ 0.07962444  0.70127145]\n",
      "   [ 0.43990797  0.5534148 ]]]\n",
      "\n",
      "\n",
      " [[[ 0.05139489  0.31578078]\n",
      "   [ 0.40595013  0.78668675]]\n",
      "\n",
      "  [[ 0.12880118  0.0211639 ]\n",
      "   [ 0.88808842  0.29255069]]]\n",
      "\n",
      "\n",
      " [[[ 0.92682225  0.14358259]\n",
      "   [ 0.5117312   0.23751651]]\n",
      "\n",
      "  [[ 0.63838181  0.88719037]\n",
      "   [ 0.74162256  0.12710127]]]]\n"
     ]
    }
   ],
   "source": [
    "print(\"Array 7:\",RAND_4a)\n",
    "print(\"Array 8:\",RAND_4b)"
   ]
  },
  {
   "cell_type": "code",
   "execution_count": 96,
   "metadata": {},
   "outputs": [
    {
     "data": {
      "image/png": "[encoded data removed]",
      "text/plain": [
       "<matplotlib.figure.Figure at 0x193a7618588>"
      ]
     },
     "metadata": {},
     "output_type": "display_data"
    },
    {
     "data": {
      "image/png": "[encoded data removed]",
      "text/plain": [
       "<matplotlib.figure.Figure at 0x193a8dada20>"
      ]
     },
     "metadata": {},
     "output_type": "display_data"
    },
    {
     "name": "stdout",
     "output_type": "stream",
     "text": [
      "Basic Statistics of Set 1                   0\n",
      "count  50000.000000\n",
      "mean       0.500861\n",
      "std        0.289245\n",
      "min        0.000016\n",
      "25%        0.250154\n",
      "50%        0.500346\n",
      "75%        0.752781\n",
      "max        0.999985\n",
      "Basic Statistics of Set 2                   0\n",
      "count  50000.000000\n",
      "mean       0.499154\n",
      "std        0.289805\n",
      "min        0.000038\n",
      "25%        0.246385\n",
      "50%        0.500141\n",
      "75%        0.749980\n",
      "max        0.999966\n"
     ]
    }
   ],
   "source": [
    "Hist_RAND_1 = np.random.rand(50000)\n",
    "Hist_RAND_2 = np.random.rand(50000)\n",
    "\n",
    "plt.hist(Hist_RAND_1, bins = 10)\n",
    "plt.title('Histogram of 50000 random numbers (Set 1)')\n",
    "plt.show()\n",
    "plt.hist(Hist_RAND_2, bins = 10)\n",
    "plt.title('Histogram of 50000 random numbers (Set 2)')\n",
    "plt.show()\n",
    "\n",
    "df_1 = pd.DataFrame(Hist_RAND_1)\n",
    "print(\"Basic Statistics of Set 1\",df_1.describe())\n",
    "\n",
    "df_2 = pd.DataFrame(Hist_RAND_2)\n",
    "print(\"Basic Statistics of Set 2\",df_2.describe())"
   ]
  },
  {
   "cell_type": "markdown",
   "metadata": {},
   "source": [
    "By plotting two histograms of Set 1 and Set 2 and by producing some basic descriptive statistics of the two datasets, the uniform distribution can be visualized. It can also be seen that the datasets have slight differences in what numbers were randomly generated."
   ]
  },
  {
   "cell_type": "markdown",
   "metadata": {
    "collapsed": true
   },
   "source": [
    "## np.random.randn()\n",
    "\n",
    "Similarly to the *np.random.rand()* function, the *np.random.randn()* function produces an array of random numbers within a user inputted size and shape. The difference between the two functions is that the *np.random.randn()* function produces random numbers that will always follow a Gaussian distribution, i.e. a Normal Distribution, with a mean of 0 and a variance of 1. \n"
   ]
  },
  {
   "cell_type": "code",
   "execution_count": 97,
   "metadata": {},
   "outputs": [
    {
     "data": {
      "image/png": "[encoded data removed]",
      "text/plain": [
       "<matplotlib.figure.Figure at 0x193a7978208>"
      ]
     },
     "metadata": {},
     "output_type": "display_data"
    },
    {
     "data": {
      "image/png": "[encoded data removed]",
      "text/plain": [
       "<matplotlib.figure.Figure at 0x193a7978a20>"
      ]
     },
     "metadata": {},
     "output_type": "display_data"
    },
    {
     "name": "stdout",
     "output_type": "stream",
     "text": [
      "Basic Statistics of Set 3                   0\n",
      "count  50000.000000\n",
      "mean      -0.005879\n",
      "std        0.995794\n",
      "min       -4.108612\n",
      "25%       -0.681518\n",
      "50%       -0.013112\n",
      "75%        0.665732\n",
      "max        4.485940\n",
      "Basic Statistics of Set 4                   0\n",
      "count  50000.000000\n",
      "mean       0.002270\n",
      "std        1.001839\n",
      "min       -4.036310\n",
      "25%       -0.671106\n",
      "50%        0.002083\n",
      "75%        0.673258\n",
      "max        4.579228\n"
     ]
    }
   ],
   "source": [
    "Hist_RANDN_1 = np.random.randn(50000)\n",
    "Hist_RANDN_2 = np.random.randn(50000)\n",
    "\n",
    "plt.hist(Hist_RANDN_1, bins = 10)\n",
    "plt.title('Histogram of 50000 random numbers (Set 3)')\n",
    "plt.show()\n",
    "plt.hist(Hist_RANDN_2, bins = 10)\n",
    "plt.title('Histogram of 50000 random numbers (Set 4)')\n",
    "plt.show()\n",
    "\n",
    "df_1 = pd.DataFrame(Hist_RANDN_1)\n",
    "print(\"Basic Statistics of Set 3\",df_1.describe())\n",
    "\n",
    "df_2 = pd.DataFrame(Hist_RANDN_2)\n",
    "print(\"Basic Statistics of Set 4\",df_2.describe())"
   ]
  },
  {
   "cell_type": "markdown",
   "metadata": {},
   "source": [
    "From viewing the histograms produced for datasets 3 and 4, it can be clearly noted that the *np.random.randn()* function produces data that follow much different distribution that the *np.random.rand()* function.  By increasing the bins values, a bell curve shape will begin to form this is typical of data that follows a normal distribution."
   ]
  },
  {
   "cell_type": "code",
   "execution_count": 98,
   "metadata": {},
   "outputs": [
    {
     "data": {
      "image/png": "[encoded data removed]",
      "text/plain": [
       "<matplotlib.figure.Figure at 0x193a8da0cf8>"
      ]
     },
     "metadata": {},
     "output_type": "display_data"
    },
    {
     "data": {
      "image/png": "[encoded data removed]",
      "text/plain": [
       "<matplotlib.figure.Figure at 0x193a8da0128>"
      ]
     },
     "metadata": {},
     "output_type": "display_data"
    },
    {
     "name": "stdout",
     "output_type": "stream",
     "text": [
      "Basic Statistics of Set 3                   0\n",
      "count  50000.000000\n",
      "mean      -0.005879\n",
      "std        0.995794\n",
      "min       -4.108612\n",
      "25%       -0.681518\n",
      "50%       -0.013112\n",
      "75%        0.665732\n",
      "max        4.485940\n",
      "Basic Statistics of Set 4                   0\n",
      "count  50000.000000\n",
      "mean       0.002270\n",
      "std        1.001839\n",
      "min       -4.036310\n",
      "25%       -0.671106\n",
      "50%        0.002083\n",
      "75%        0.673258\n",
      "max        4.579228\n"
     ]
    }
   ],
   "source": [
    "plt.hist(Hist_RANDN_1, bins = 100)\n",
    "plt.title('Histogram of 50000 random numbers (Set 3)')\n",
    "plt.show()\n",
    "plt.hist(Hist_RANDN_2, bins = 100)\n",
    "plt.title('Histogram of 50000 random numbers (Set 4)')\n",
    "plt.show()\n",
    "\n",
    "df_1 = pd.DataFrame(Hist_RANDN_1)\n",
    "print(\"Basic Statistics of Set 3\",df_1.describe())\n",
    "\n",
    "df_2 = pd.DataFrame(Hist_RANDN_2)\n",
    "print(\"Basic Statistics of Set 4\",df_2.describe())"
   ]
  },
  {
   "cell_type": "markdown",
   "metadata": {},
   "source": [
    "## np.random.randint()\n",
    "\n",
    "The *numpy.random.randint* function produces random integers from low (inclusive) to high (exclusive). These can be generated as a single integer or as multiple integers within a given size."
   ]
  },
  {
   "cell_type": "code",
   "execution_count": 99,
   "metadata": {},
   "outputs": [
    {
     "name": "stdout",
     "output_type": "stream",
     "text": [
      "Random Number 1:  30050\n",
      "Random Number 2:  17603\n",
      "Random Number 3:  36586\n",
      "Random Number 4:  14909\n",
      "Random Number 5:  4291\n",
      "Random Number 6:  33431\n",
      "Random Number (7) between 5 and 10:  7\n",
      "Random Number (8) between 5 and 10:  6\n",
      "Random Number (9) between 5 and 10:  10\n",
      "Random Number Array (10) between 5 and 10, n=10:  [9 9 5 6 5 9 7 9 7 8]\n",
      "Random Number Array (11) between 5 and 10, n=10:  [10  9  6  9  8  9  9  8  5 10]\n",
      "Random Number Array (12) between 5 and 10, n=10:  [ 7  5  7 10 10 10  9 10  9 10]\n"
     ]
    }
   ],
   "source": [
    "Hist_RAND_INT_1 = np.random.randint(50000)\n",
    "Hist_RAND_INT_2 = np.random.randint(50000)\n",
    "Hist_RAND_INT_3 = np.random.randint(50000)\n",
    "Hist_RAND_INT_4 = np.random.randint(50000)\n",
    "Hist_RAND_INT_5 = np.random.randint(50000)\n",
    "Hist_RAND_INT_6 = np.random.randint(50000)\n",
    "\n",
    "print(\"Random Number 1: \", Hist_RAND_INT_1)\n",
    "print(\"Random Number 2: \", Hist_RAND_INT_2)\n",
    "print(\"Random Number 3: \", Hist_RAND_INT_3)\n",
    "print(\"Random Number 4: \", Hist_RAND_INT_4)\n",
    "print(\"Random Number 5: \", Hist_RAND_INT_5)\n",
    "print(\"Random Number 6: \", Hist_RAND_INT_6)\n",
    "\n",
    "Hist_RAND_INT_7 = np.random.randint(5, high=11)\n",
    "Hist_RAND_INT_8 = np.random.randint(5, high=11)\n",
    "Hist_RAND_INT_9 = np.random.randint(5, high=11)\n",
    "\n",
    "print(\"Random Number (7) between 5 and 10: \", Hist_RAND_INT_7)\n",
    "print(\"Random Number (8) between 5 and 10: \", Hist_RAND_INT_8)\n",
    "print(\"Random Number (9) between 5 and 10: \", Hist_RAND_INT_9)\n",
    "\n",
    "Hist_RAND_INT_10 = np.random.randint(5, high=11, size=10)\n",
    "Hist_RAND_INT_11 = np.random.randint(5, high=11, size=10)\n",
    "Hist_RAND_INT_12 = np.random.randint(5, high=11, size=10)\n",
    "\n",
    "print(\"Random Number Array (10) between 5 and 10, n=10: \", Hist_RAND_INT_10)\n",
    "print(\"Random Number Array (11) between 5 and 10, n=10: \", Hist_RAND_INT_11)\n",
    "print(\"Random Number Array (12) between 5 and 10, n=10: \", Hist_RAND_INT_12)"
   ]
  },
  {
   "cell_type": "markdown",
   "metadata": {},
   "source": [
    "## numpy.random.choice()\n",
    "\n",
    "The *numpy.random.choice()* function works in a similar way to the *numpy.random.randint* function but rather than selecting intgers, it produces a random choice between an array or list of strings."
   ]
  },
  {
   "cell_type": "code",
   "execution_count": 100,
   "metadata": {},
   "outputs": [
    {
     "name": "stdout",
     "output_type": "stream",
     "text": [
      "Random Colour Choice 1:  red\n",
      "Random Colour Choice 2:  red\n",
      "Random Colour Choice 3:  yellow\n",
      "Random Colour Choice (4), n=5:  ['yellow' 'blue' 'green' 'blue' 'red']\n",
      "Random Colour Choice (5), n=5:  ['blue' 'yellow' 'green' 'blue' 'yellow']\n",
      "Random Colour Choice (6), n=5:  ['yellow' 'yellow' 'blue' 'blue' 'blue']\n"
     ]
    }
   ],
   "source": [
    "colours = ['blue', 'green', 'yellow', 'red']\n",
    "\n",
    "Hist_RAND_Col_1 = np.random.choice(colours)\n",
    "Hist_RAND_Col_2 = np.random.choice(colours)\n",
    "Hist_RAND_Col_3 = np.random.choice(colours)\n",
    "\n",
    "print(\"Random Colour Choice 1: \", Hist_RAND_Col_1)\n",
    "print(\"Random Colour Choice 2: \", Hist_RAND_Col_2)\n",
    "print(\"Random Colour Choice 3: \", Hist_RAND_Col_3)\n",
    "\n",
    "Hist_RAND_Col_4 = np.random.choice(colours, size=5)\n",
    "Hist_RAND_Col_5 = np.random.choice(colours, size=5)\n",
    "Hist_RAND_Col_6 = np.random.choice(colours, size=5)\n",
    "\n",
    "print(\"Random Colour Choice (4), n=5: \", Hist_RAND_Col_4)\n",
    "print(\"Random Colour Choice (5), n=5: \", Hist_RAND_Col_5)\n",
    "print(\"Random Colour Choice (6), n=5: \", Hist_RAND_Col_6)"
   ]
  },
  {
   "cell_type": "markdown",
   "metadata": {},
   "source": [
    "## Permutations\n",
    "\n",
    "This section of the *numpy.random* documentation [3] contains two functions: *numpy.random.shuffle* and *numpy.random.permutation*. \n",
    "\n",
    "## numpy.random.shuffle\n",
    "\n",
    "The *numpy.random.shuffle* function modifies a sequence by shuffling its contents. Only the first axis of a multi-dimensional array is shuffled. This function changes the original data."
   ]
  },
  {
   "cell_type": "code",
   "execution_count": 101,
   "metadata": {},
   "outputs": [
    {
     "name": "stdout",
     "output_type": "stream",
     "text": [
      "Set 1, n=5:  [1, 2, 3, 4, 5]\n",
      "Shuffled Set 1, n=5:  [1, 4, 3, 2, 5]\n",
      "Shuffled Set 2, n=5:  [5, 2, 4, 1, 3]\n",
      "Shuffled Set 3, n=5:  [3, 5, 2, 1, 4]\n",
      "Array 1, n=16, Shape = 4x4:  [[ 0  1  2  3]\n",
      " [ 4  5  6  7]\n",
      " [ 8  9 10 11]\n",
      " [12 13 14 15]]\n",
      "Shuffled Array 1, n=16, Shape = 4x4:  [[ 8  9 10 11]\n",
      " [ 0  1  2  3]\n",
      " [12 13 14 15]\n",
      " [ 4  5  6  7]]\n"
     ]
    }
   ],
   "source": [
    "Shuf = [1, 2, 3, 4, 5]\n",
    "\n",
    "print(\"Set 1, n=5: \", Shuf)\n",
    "np.random.shuffle(Shuf)\n",
    "\n",
    "print(\"Shuffled Set 1, n=5: \", Shuf)\n",
    "np.random.shuffle(Shuf)\n",
    "\n",
    "print(\"Shuffled Set 2, n=5: \", Shuf)\n",
    "np.random.shuffle(Shuf)\n",
    "\n",
    "print(\"Shuffled Set 3, n=5: \", Shuf)\n",
    "\n",
    "Shuf_Ar = np.arange(16).reshape((4, 4))\n",
    "print(\"Array 1, n=16, Shape = 4x4: \", Shuf_Ar)\n",
    "\n",
    "np.random.shuffle(Shuf_Ar)\n",
    "print(\"Shuffled Array 1, n=16, Shape = 4x4: \", Shuf_Ar)\n"
   ]
  },
  {
   "cell_type": "markdown",
   "metadata": {},
   "source": [
    "## numpy.random.permutation\n",
    "\n",
    "The *numpy.random.permutation* function acts in a similiar manner to the *numpy.random.shuffle* function. However, original data remains unchanged."
   ]
  },
  {
   "cell_type": "code",
   "execution_count": 102,
   "metadata": {},
   "outputs": [
    {
     "name": "stdout",
     "output_type": "stream",
     "text": [
      "Set 1, n=5:  [1, 2, 3, 4, 5]\n",
      "Permutation Set 1, n=5:  [3 2 1 4 5]\n",
      "Permutation Set 2, n=5:  [4 3 2 5 1]\n",
      "Permutation Set 3, n=5:  [4 1 3 2 5]\n",
      "Array 1, n=16, Shape = 4x4:  [[ 0  1  2  3]\n",
      " [ 4  5  6  7]\n",
      " [ 8  9 10 11]\n",
      " [12 13 14 15]]\n",
      "Permutation Array 1, n=16, Shape = 4x4:  [[ 0  1  2  3]\n",
      " [12 13 14 15]\n",
      " [ 8  9 10 11]\n",
      " [ 4  5  6  7]]\n"
     ]
    }
   ],
   "source": [
    "Perm = [1, 2, 3, 4, 5]\n",
    "Perm_1 = np.random.permutation(Perm)\n",
    "Perm_2 = np.random.permutation(Perm)\n",
    "Perm_3 = np.random.permutation(Perm)\n",
    "\n",
    "\n",
    "print(\"Set 1, n=5: \", Perm)\n",
    "print(\"Permutation Set 1, n=5: \", Perm_1)\n",
    "print(\"Permutation Set 2, n=5: \", Perm_2)\n",
    "print(\"Permutation Set 3, n=5: \", Perm_3)\n",
    "\n",
    "\n",
    "Perm_Ar = np.arange(16).reshape((4, 4))\n",
    "Perm_Ar_1 = np.random.permutation(Perm_Ar)\n",
    "\n",
    "print(\"Array 1, n=16, Shape = 4x4: \", Perm_Ar)\n",
    "print(\"Permutation Array 1, n=16, Shape = 4x4: \", Perm_Ar_1)\n"
   ]
  },
  {
   "cell_type": "markdown",
   "metadata": {},
   "source": [
    "## Distributions\n",
    "\n",
    "The *np.random.rand()* function and the *np.random.randn()* function, described above, produce uniform and normal distributions respectively. However the *np.random* documentation [3] have simplier methods for creating several distributions. \n",
    "\n",
    "The following will be assessed and explained:\n",
    "1. Gaussian\n",
    "2. Poisson\n",
    "3. Laplace \n",
    "4. Exponential \n",
    "5. Rayleigh \n",
    "\n",
    "## Gaussian Distributions\n",
    "\n",
    "More commonly known as Normal Distribution, the Gaussian Distribution consists of data that is distributed with no bias left or right. When plotted in a histogram, a *Bell Curve* shape can be clearly seen. There are many datasets in life that follow a Gaussian Distribution. Some of these include:\n",
    "1. Heights of People\n",
    "2. Test Scores\n",
    "3. Error Measurements\n",
    "\n",
    "Data is said to follow a Normal Distribution when 50% of values less than the mean and 50% greater than the mean. [4]\n",
    "\n",
    "## Poisson Distribution\n",
    "The Poisson distribution calculated using the discrete probability distribution. It is the number of events occurring in a given time period, given the average number of times the event occurs over that time period. [6]\n",
    "There are a number of conditions for Poisson Distribution:\n",
    "1.\tThere can be any number of events at a given time.\n",
    "2.\tEvents must be independent i.e. one event occurring does not affect another from occurring. An example would be the number of people arriving to a drive-through at a given time. \n",
    "3.\tThe rate of occurrence is a constant.\n",
    "4.\tThe probability of an event occurring is proportional to the length of the time period i.e. if the time period doubles, so too does the probability that the event will occur.\n",
    "\n",
    "\n",
    "## Laplace Distribution\n",
    "The Laplace distribution is similar to the Gaussian Distribution, but is sharper at the peak and has fatter tails. It represents the difference between two independent, identically distributed exponential random variables.  [7] This distribution occurs naturally as the distribution of the difference of two independent, identically distributed exponential variables. It is due to this that the distribution is also called the double exponential distribution. [8]\n",
    "\n",
    "## Exponential Distribution\n",
    "The exponential distribution is one of the most widely used continuous distributions. It is often used to model the time elapsed between events. [10] It can be used to describe many common situations, one of which would be the size of raindrops measured during storms. [11]\n",
    "\n",
    "## Rayleigh Distribution\n",
    "The Rayleigh distribution is a continuous probability distribution for positive-valued random variables. [14] The distribution is widely used in the following:\n",
    "1.\tIn the phisics to model wind speed and wave heights. \n",
    "2.\tIn engineering to measure the lifetime of an object. Such as resistors, transformers, and capacitors.\n",
    "3.\tIn medical imaging, to model noise variance in magnetic resonance imaging. (MRI)\n"
   ]
  },
  {
   "cell_type": "code",
   "execution_count": 103,
   "metadata": {},
   "outputs": [
    {
     "data": {
      "image/png": "[encoded data removed]",
      "text/plain": [
       "<matplotlib.figure.Figure at 0x193a95e5588>"
      ]
     },
     "metadata": {},
     "output_type": "display_data"
    },
    {
     "data": {
      "image/png": "[encoded data removed]",
      "text/plain": [
       "<matplotlib.figure.Figure at 0x193a94b3be0>"
      ]
     },
     "metadata": {},
     "output_type": "display_data"
    },
    {
     "data": {
      "image/png": "[encoded data removed]",
      "text/plain": [
       "<matplotlib.figure.Figure at 0x193a9551e10>"
      ]
     },
     "metadata": {},
     "output_type": "display_data"
    },
    {
     "data": {
      "image/png": "[encoded data removed]",
      "text/plain": [
       "<matplotlib.figure.Figure at 0x193a9575be0>"
      ]
     },
     "metadata": {},
     "output_type": "display_data"
    },
    {
     "data": {
      "image/png": "[encoded data removed]",
      "text/plain": [
       "<matplotlib.figure.Figure at 0x193a8fc6e80>"
      ]
     },
     "metadata": {},
     "output_type": "display_data"
    }
   ],
   "source": [
    "# Gaussian - Adapted from [5]\n",
    "\n",
    "mu, sigma = 0.5, 0.1\n",
    "s = np.random.normal(mu, sigma, 1000)\n",
    "\n",
    "# Create the bins and histogram\n",
    "count, bins, ignored = plt.hist(s, 20, normed=True)\n",
    "\n",
    "# Plot the distribution curve\n",
    "plt.plot(bins, 1/(sigma * np.sqrt(2 * np.pi)) *\n",
    "    np.exp( - (bins - mu)**2 / (2 * sigma**2) ),    linewidth=3, color='g')\n",
    "plt.title('Gaussian Distribution')\n",
    "plt.show()\n",
    "\n",
    "# Poisson  - Adapted from [13]\n",
    "\n",
    "t = np.random.poisson(10, 10000)\n",
    "\n",
    "# Create the bins and histogram\n",
    "count, bins, ignored = plt.hist(t, 25, normed=True)\n",
    "plt.title('Poisson Distribution')\n",
    "plt.show()\n",
    "\n",
    "# Laplace - Adapted from [9] \n",
    "\n",
    "loc, scale = 0., 1.\n",
    "s = np.random.laplace(loc, scale, 1000)\n",
    "count, bins, ignored = plt.hist(s, 30, normed=True)\n",
    "x = np.arange(-8., 8., .01)\n",
    "pdf = np.exp(-abs(x-loc)/scale)/(2.*scale)\n",
    "plt.plot(x, pdf)\n",
    "plt.title('Laplace Distribution')\n",
    "plt.show()\n",
    "\n",
    "# Exponential - Adapted from [12] \n",
    "\n",
    "target = 250\n",
    "beta = 1.0/target\n",
    "\n",
    "Y = np.random.exponential(beta, 5000)\n",
    "plt.hist(Y, normed=True, bins=200,lw=0,alpha=.8)\n",
    "plt.ylim(0,target*1.1)\n",
    "plt.title('Exponential Distribution')\n",
    "plt.show()\n",
    "\n",
    "# Rayleigh - Created using [15]\n",
    "\n",
    "r = np.random.rayleigh(2, 500000)\n",
    "plt.hist(r, bins = 100)\n",
    "plt.title('Rayleigh Distribution')\n",
    "plt.show()"
   ]
  },
  {
   "cell_type": "markdown",
   "metadata": {},
   "source": [
    "## Seeds\n",
    "\n",
    "Pseudo random numbers are calculated as follows:\n",
    "1.\t Starting with a number i.e. the seed,\n",
    "2.\tMultiplying this number by a large number,\n",
    "3.\tThen taking modulo of that product. \n",
    "\n",
    "The resulting number is then used as the seed to generate the subsequent random number and the process continues in this fashion. By setting the seed, the calculation is the same every time and therefore the output is always the same. [16,17]\n",
    "\n",
    "\n",
    "By using similiar coding that was previously used to investigate the *np.random.randn* function, the use of a seed can be clearly seen. Here the graphs and basic descriptive statistics are identical. "
   ]
  },
  {
   "cell_type": "code",
   "execution_count": 104,
   "metadata": {},
   "outputs": [
    {
     "name": "stdout",
     "output_type": "stream",
     "text": [
      "Seed Set 1:  [ 0.5507979   0.70814782  0.29090474  0.51082761  0.89294695]\n"
     ]
    }
   ],
   "source": [
    "np.random.seed(3)\n",
    "\n",
    "Seed_1_A = np.random.rand(5)\n",
    "\n",
    "print(\"Seed Set 1: \", Seed_1_A)"
   ]
  },
  {
   "cell_type": "code",
   "execution_count": 105,
   "metadata": {},
   "outputs": [
    {
     "name": "stdout",
     "output_type": "stream",
     "text": [
      "Seed Set 2:  [ 0.5507979   0.70814782  0.29090474  0.51082761  0.89294695]\n"
     ]
    }
   ],
   "source": [
    "np.random.seed(3)\n",
    "\n",
    "Seed_1_A = np.random.rand(5)\n",
    "\n",
    "print(\"Seed Set 2: \", Seed_1_A)"
   ]
  },
  {
   "cell_type": "code",
   "execution_count": 106,
   "metadata": {},
   "outputs": [
    {
     "data": {
      "image/png": "[encoded data removed]",
      "text/plain": [
       "<matplotlib.figure.Figure at 0x193a5e38668>"
      ]
     },
     "metadata": {},
     "output_type": "display_data"
    },
    {
     "name": "stdout",
     "output_type": "stream",
     "text": [
      "Basic Statistics of Seed 3                   0\n",
      "count  50000.000000\n",
      "mean      -0.003087\n",
      "std        0.997589\n",
      "min       -4.602975\n",
      "25%       -0.677959\n",
      "50%       -0.000548\n",
      "75%        0.667260\n",
      "max        4.476011\n"
     ]
    }
   ],
   "source": [
    "np.random.seed(3)\n",
    "\n",
    "Hist_RANDN_1 = np.random.randn(50000)\n",
    "\n",
    "plt.hist(Hist_RANDN_1, bins = 10)\n",
    "plt.title('Histogram of 50000 random numbers (Seed 3) A')\n",
    "plt.show()\n",
    "\n",
    "df_1 = pd.DataFrame(Hist_RANDN_1)\n",
    "print(\"Basic Statistics of Seed 3\",df_1.describe())\n"
   ]
  },
  {
   "cell_type": "code",
   "execution_count": 107,
   "metadata": {},
   "outputs": [
    {
     "data": {
      "image/png": "[encoded data removed]",
      "text/plain": [
       "<matplotlib.figure.Figure at 0x193a8ec1ba8>"
      ]
     },
     "metadata": {},
     "output_type": "display_data"
    },
    {
     "name": "stdout",
     "output_type": "stream",
     "text": [
      "Basic Statistics of Seed 3                   0\n",
      "count  50000.000000\n",
      "mean      -0.003087\n",
      "std        0.997589\n",
      "min       -4.602975\n",
      "25%       -0.677959\n",
      "50%       -0.000548\n",
      "75%        0.667260\n",
      "max        4.476011\n"
     ]
    }
   ],
   "source": [
    "np.random.seed(3)\n",
    "\n",
    "Hist_RANDN_1 = np.random.randn(50000)\n",
    "\n",
    "plt.hist(Hist_RANDN_1, bins = 10)\n",
    "plt.title('Histogram of 50000 random numbers (Seed 3) B')\n",
    "plt.show()\n",
    "\n",
    "df_1 = pd.DataFrame(Hist_RANDN_1)\n",
    "print(\"Basic Statistics of Seed 3\",df_1.describe())"
   ]
  },
  {
   "cell_type": "markdown",
   "metadata": {},
   "source": [
    "## References\n",
    "\n",
    "1. https://www.safaribooksonline.com/library/view/python-data-analysis/9781783553358/ch03s05.html\n",
    "2. https://engineering.ucsb.edu/~shell/che210d/numpy.\n",
    "3. https://docs.scipy.org/doc/numpy-1.15.1/reference/routines.random.html\n",
    "4. https://www.mathsisfun.com/data/standard-normal-distribution.html\n",
    "5. https://www.tutorialspoint.com/python/python_normal_distribution.htm\n",
    "6. https://brilliant.org/wiki/poisson-distribution/\n",
    "7. https://docs.scipy.org/doc/numpy-1.15.1/reference/generated/numpy.random.laplace.html#numpy.random.laplace\n",
    "8. http://www.randomservices.org/random/special/Laplace.html\n",
    "9. https://www.w3cschool.cn/doc_numpy_1_13/numpy_1_13-generated-numpy-random-laplace.html\n",
    "10. https://www.probabilitycourse.com/chapter4/4_2_2_exponential.php\n",
    "11. https://docs.scipy.org/doc/numpy-1.15.1/reference/generated/numpy.random.exponential.html#numpy.random.exponential\n",
    "12. https://stackoverflow.com/questions/15091982/manipulating-the-numpy-random-exponential-distribution-in-python\n",
    "13. https://docs.scipy.org/doc/numpy-1.15.1/reference/generated/numpy.random.poisson.html#numpy.random.poisson\n",
    "14. https://www.statisticshowto.datasciencecentral.com/rayleigh-distribution/\n",
    "15. https://docs.scipy.org/doc/numpy-1.15.1/reference/generated/numpy.random.rayleigh.html#numpy.random.rayleigh\n",
    "16. https://stackoverflow.com/questions/21494489/what-does-numpy-random-seed0-do\n",
    "17. https://stackoverflow.com/questions/22994423/difference-between-np-random-seed-and-np-random-randomstate"
   ]
  }
 ],
 "metadata": {
  "kernelspec": {
   "display_name": "Python 3",
   "language": "python",
   "name": "python3"
  },
  "language_info": {
   "codemirror_mode": {
    "name": "ipython",
    "version": 3
   },
   "file_extension": ".py",
   "mimetype": "text/x-python",
   "name": "python",
   "nbconvert_exporter": "python",
   "pygments_lexer": "ipython3",
   "version": "3.6.3"
  }
 },
 "nbformat": 4,
 "nbformat_minor": 2
}
