{
 "cells": [
  {
   "cell_type": "markdown",
   "metadata": {
    "collapsed": true
   },
   "source": [
    "# numpy.random - Package Research\n",
    "\n",
    "## Assignment Details\n",
    "\n",
    "The purpose of this Jupyter notebook is to conduct research into the use of the *numpy.random* package.\n",
    "\n",
    "Per the assignment, there are four distinct tasks to be completed:\n",
    "\n",
    "1. Explain the overall purpose of the package.\n",
    "2. Explain the use of the “Simple random data” and “Permutations” functions.\n",
    "3. Explain the use and purpose of at least five “Distributions” functions.\n",
    "4. Explain the use of seeds in generating pseudorandom numbers."
   ]
  },
  {
   "cell_type": "markdown",
   "metadata": {},
   "source": [
    "## Purpose of the package\n",
    "\n",
    "*numpy.random* is utilised to generate pseudo-random numbers which are generated based on the Mersenne Twister algorithm. Pseudo-random numbers are sufficent for most purposes as real random numbers are difficult to produce. [1] These numbers are considered pseudo random, as opposed to random, as they are generated deterministically from a seed number. Per the introduction to numpy documentation [2],  the numbers are then  distributed  in a random fashion which has statistical similarities to true random numbers. \n",
    "\n",
    "The *numpy.random* subpackage contains a number of fuctions which allow the generation intergers or floats. Per the documentation page, there are four sections which provide an explanation into these functions. Within this notebook, a few of these functions will be analysed and explained. [3]\n",
    "\n"
   ]
  },
  {
   "cell_type": "markdown",
   "metadata": {},
   "source": [
    "## Simple Random Data\n",
    "\n",
    "This section of the *numpy.random* documentation [3] contains several functions that can be utilized to generate random numbers and / or random selections from a list of strings.\n"
   ]
  },
  {
   "cell_type": "code",
   "execution_count": 1,
   "metadata": {
    "collapsed": true
   },
   "outputs": [],
   "source": [
    "import matplotlib\n",
    "import numpy as np\n",
    "import matplotlib.pyplot as plt\n",
    "import pandas as pd\n",
    "%matplotlib inline"
   ]
  },
  {
   "cell_type": "markdown",
   "metadata": {},
   "source": [
    "## np.random.rand()\n",
    "\n",
    "The * np.random.rand()* function creates an array, of a given shape defined by the user, and subsequently populates it with random numbers. The numbers produced are of uniform distribution from *[0, 1)* i.e. 0 < x ≥ 1.\n",
    "\n",
    "See the arrays below that have be procuded in different shapes."
   ]
  },
  {
   "cell_type": "code",
   "execution_count": 2,
   "metadata": {
    "collapsed": true
   },
   "outputs": [],
   "source": [
    "RAND_1a = np.random.rand(5)\n",
    "RAND_1b = np.random.rand(5)\n",
    "\n",
    "RAND_2a = np.random.rand(5,2)\n",
    "RAND_2b = np.random.rand(5,2)\n",
    "\n",
    "RAND_3a = np.random.rand(5,2,2)\n",
    "RAND_3b = np.random.rand(5,2,2)\n",
    "\n",
    "RAND_4a = np.random.rand(5,2,2,2)\n",
    "RAND_4b = np.random.rand(5,2,2,2)"
   ]
  },
  {
   "cell_type": "code",
   "execution_count": 3,
   "metadata": {},
   "outputs": [
    {
     "name": "stdout",
     "output_type": "stream",
     "text": [
      "Array 1: [ 0.35013665  0.60374607  0.1152638   0.63768868  0.03410285]\n",
      "Array 2: [ 0.18283372  0.40093815  0.63868673  0.07581487  0.50968633]\n"
     ]
    }
   ],
   "source": [
    "print(\"Array 1:\",RAND_1a)\n",
    "print(\"Array 2:\",RAND_1b)"
   ]
  },
  {
   "cell_type": "markdown",
   "metadata": {},
   "source": [
    "By producing two arrays at the same time, and by using identical coding, the random number generation can be clearly seen. This becomes more difficult to visualize with larger arrays and with those of different shapes."
   ]
  },
  {
   "cell_type": "code",
   "execution_count": 4,
   "metadata": {},
   "outputs": [
    {
     "name": "stdout",
     "output_type": "stream",
     "text": [
      "Array 3: [[ 0.39272125  0.70406192]\n",
      " [ 0.51049506  0.07887491]\n",
      " [ 0.02486247  0.13414361]\n",
      " [ 0.31922086  0.70017559]\n",
      " [ 0.60093092  0.79760329]]\n",
      "Array 4: [[ 0.23490375  0.92188356]\n",
      " [ 0.98250941  0.62834789]\n",
      " [ 0.17725876  0.47541116]\n",
      " [ 0.95617963  0.84407038]\n",
      " [ 0.71282705  0.5074781 ]]\n"
     ]
    }
   ],
   "source": [
    "print(\"Array 3:\",RAND_2a)\n",
    "print(\"Array 4:\",RAND_2b)"
   ]
  },
  {
   "cell_type": "code",
   "execution_count": 5,
   "metadata": {},
   "outputs": [
    {
     "name": "stdout",
     "output_type": "stream",
     "text": [
      "Array 5: [[[ 0.68924749  0.0518759 ]\n",
      "  [ 0.29505427  0.27094368]]\n",
      "\n",
      " [[ 0.97347362  0.20130826]\n",
      "  [ 0.25285754  0.05070857]]\n",
      "\n",
      " [[ 0.47556953  0.78434207]\n",
      "  [ 0.28072093  0.21854802]]\n",
      "\n",
      " [[ 0.79242752  0.12037199]\n",
      "  [ 0.54558766  0.08830202]]\n",
      "\n",
      " [[ 0.8764732   0.70230022]\n",
      "  [ 0.548638    0.9701379 ]]]\n",
      "Array 6: [[[ 0.42768248  0.02548758]\n",
      "  [ 0.10486017  0.27339129]]\n",
      "\n",
      " [[ 0.97263368  0.82171212]\n",
      "  [ 0.81920541  0.11734364]]\n",
      "\n",
      " [[ 0.22388705  0.11071532]\n",
      "  [ 0.43609971  0.02306117]]\n",
      "\n",
      " [[ 0.79422994  0.97259068]\n",
      "  [ 0.86506021  0.00968276]]\n",
      "\n",
      " [[ 0.78464773  0.68299874]\n",
      "  [ 0.51540463  0.67905006]]]\n"
     ]
    }
   ],
   "source": [
    "print(\"Array 5:\",RAND_3a)\n",
    "print(\"Array 6:\",RAND_3b)"
   ]
  },
  {
   "cell_type": "code",
   "execution_count": 6,
   "metadata": {},
   "outputs": [
    {
     "name": "stdout",
     "output_type": "stream",
     "text": [
      "Array 7: [[[[ 0.64515823  0.21551042]\n",
      "   [ 0.84638692  0.41742838]]\n",
      "\n",
      "  [[ 0.53805602  0.34129497]\n",
      "   [ 0.64494857  0.82023807]]]\n",
      "\n",
      "\n",
      " [[[ 0.24623594  0.81844652]\n",
      "   [ 0.98152166  0.38147131]]\n",
      "\n",
      "  [[ 0.2868064   0.1567499 ]\n",
      "   [ 0.89684988  0.82988666]]]\n",
      "\n",
      "\n",
      " [[[ 0.83118965  0.73208265]\n",
      "   [ 0.94545626  0.82463365]]\n",
      "\n",
      "  [[ 0.30904273  0.37930507]\n",
      "   [ 0.11229934  0.97177453]]]\n",
      "\n",
      "\n",
      " [[[ 0.14459172  0.34919176]\n",
      "   [ 0.15931608  0.20594559]]\n",
      "\n",
      "  [[ 0.74432447  0.4925628 ]\n",
      "   [ 0.09111595  0.17283894]]]\n",
      "\n",
      "\n",
      " [[[ 0.58031595  0.48500617]\n",
      "   [ 0.41275653  0.37637275]]\n",
      "\n",
      "  [[ 0.61387509  0.02069421]\n",
      "   [ 0.42841101  0.67745098]]]]\n",
      "Array 8: [[[[ 0.39261009  0.82083294]\n",
      "   [ 0.96423266  0.67753415]]\n",
      "\n",
      "  [[ 0.3926407   0.45785566]\n",
      "   [ 0.20303334  0.62538044]]]\n",
      "\n",
      "\n",
      " [[[ 0.35181931  0.74879834]\n",
      "   [ 0.45292921  0.84006233]]\n",
      "\n",
      "  [[ 0.10386428  0.61237772]\n",
      "   [ 0.96373771  0.02414506]]]\n",
      "\n",
      "\n",
      " [[[ 0.79740534  0.7982414 ]\n",
      "   [ 0.029104    0.8522881 ]]\n",
      "\n",
      "  [[ 0.0749086   0.18691523]\n",
      "   [ 0.20217173  0.86640012]]]\n",
      "\n",
      "\n",
      " [[[ 0.16036155  0.60682417]\n",
      "   [ 0.13699978  0.67302127]]\n",
      "\n",
      "  [[ 0.73019546  0.00588925]\n",
      "   [ 0.25057103  0.97915724]]]\n",
      "\n",
      "\n",
      " [[[ 0.25949309  0.94755766]\n",
      "   [ 0.57232322  0.05990274]]\n",
      "\n",
      "  [[ 0.28166168  0.96288319]\n",
      "   [ 0.55321029  0.38033348]]]]\n"
     ]
    }
   ],
   "source": [
    "print(\"Array 7:\",RAND_4a)\n",
    "print(\"Array 8:\",RAND_4b)"
   ]
  },
  {
   "cell_type": "code",
   "execution_count": 7,
   "metadata": {},
   "outputs": [
    {
     "data": {
      "image/png": "[encoded data removed]",
      "text/plain": [
       "<matplotlib.figure.Figure at 0x1bca03877f0>"
      ]
     },
     "metadata": {},
     "output_type": "display_data"
    },
    {
     "data": {
      "image/png": "[encoded data removed]",
      "text/plain": [
       "<matplotlib.figure.Figure at 0x1bca032f240>"
      ]
     },
     "metadata": {},
     "output_type": "display_data"
    },
    {
     "name": "stdout",
     "output_type": "stream",
     "text": [
      "Basic Statistics of Set 1                   0\n",
      "count  5.000000e+04\n",
      "mean   4.995246e-01\n",
      "std    2.887452e-01\n",
      "min    5.650215e-07\n",
      "25%    2.496621e-01\n",
      "50%    5.003964e-01\n",
      "75%    7.488161e-01\n",
      "max    9.999990e-01\n",
      "Basic Statistics of Set 2                   0\n",
      "count  50000.000000\n",
      "mean       0.498685\n",
      "std        0.288111\n",
      "min        0.000012\n",
      "25%        0.249458\n",
      "50%        0.497828\n",
      "75%        0.747509\n",
      "max        0.999944\n"
     ]
    }
   ],
   "source": [
    "Hist_RAND_1 = np.random.rand(50000)\n",
    "Hist_RAND_2 = np.random.rand(50000)\n",
    "\n",
    "plt.hist(Hist_RAND_1, bins = 10)\n",
    "plt.title('Histogram of 50000 random numbers (Set 1)')\n",
    "plt.show()\n",
    "plt.hist(Hist_RAND_2, bins = 10)\n",
    "plt.title('Histogram of 50000 random numbers (Set 2)')\n",
    "plt.show()\n",
    "\n",
    "df_1 = pd.DataFrame(Hist_RAND_1)\n",
    "print(\"Basic Statistics of Set 1\",df_1.describe())\n",
    "\n",
    "df_2 = pd.DataFrame(Hist_RAND_2)\n",
    "print(\"Basic Statistics of Set 2\",df_2.describe())"
   ]
  },
  {
   "cell_type": "markdown",
   "metadata": {},
   "source": [
    "By plotting two histograms of Set 1 and Set 2 and by producing some basic descriptive statistics of the two datasets, the uniform distribution can be visualized. It can also be seen that the datasets have slight differences in what numbers were randomly generated."
   ]
  },
  {
   "cell_type": "markdown",
   "metadata": {
    "collapsed": true
   },
   "source": [
    "## np.random.randn()\n",
    "\n",
    "Similarly to the *np.random.rand()* function, the *np.random.randn()* function produces an array of random numbers within a user inputted size and shape. The difference between the two functions is that the *np.random.randn()* function produces random numbers that will always follow a Gaussian distribution, i.e. a Normal Distribution, with a mean of 0 and a variance of 1. \n"
   ]
  },
  {
   "cell_type": "code",
   "execution_count": 8,
   "metadata": {},
   "outputs": [
    {
     "data": {
      "image/png": "[encoded data removed]",
      "text/plain": [
       "<matplotlib.figure.Figure at 0x1bca052e278>"
      ]
     },
     "metadata": {},
     "output_type": "display_data"
    },
    {
     "data": {
      "image/png": "[encoded data removed]",
      "text/plain": [
       "<matplotlib.figure.Figure at 0x1bca04ec278>"
      ]
     },
     "metadata": {},
     "output_type": "display_data"
    },
    {
     "name": "stdout",
     "output_type": "stream",
     "text": [
      "Basic Statistics of Set 3                   0\n",
      "count  50000.000000\n",
      "mean      -0.003802\n",
      "std        0.999820\n",
      "min       -4.369629\n",
      "25%       -0.681165\n",
      "50%       -0.001765\n",
      "75%        0.668606\n",
      "max        4.213002\n",
      "Basic Statistics of Set 4                   0\n",
      "count  50000.000000\n",
      "mean      -0.004759\n",
      "std        1.003903\n",
      "min       -4.340091\n",
      "25%       -0.685527\n",
      "50%       -0.003092\n",
      "75%        0.669613\n",
      "max        4.309950\n"
     ]
    }
   ],
   "source": [
    "Hist_RANDN_1 = np.random.randn(50000)\n",
    "Hist_RANDN_2 = np.random.randn(50000)\n",
    "\n",
    "plt.hist(Hist_RANDN_1, bins = 10)\n",
    "plt.title('Histogram of 50000 random numbers (Set 3)')\n",
    "plt.show()\n",
    "plt.hist(Hist_RANDN_2, bins = 10)\n",
    "plt.title('Histogram of 50000 random numbers (Set 4)')\n",
    "plt.show()\n",
    "\n",
    "df_1 = pd.DataFrame(Hist_RANDN_1)\n",
    "print(\"Basic Statistics of Set 3\",df_1.describe())\n",
    "\n",
    "df_2 = pd.DataFrame(Hist_RANDN_2)\n",
    "print(\"Basic Statistics of Set 4\",df_2.describe())"
   ]
  },
  {
   "cell_type": "markdown",
   "metadata": {},
   "source": [
    "From viewing the histograms produced for datasets 3 and 4, it can be clearly noted that the *np.random.randn()* function produces data that follow much different distribution that the *np.random.rand()* function.  By increasing the bins values, a bell curve shape will begin to form this is typical of data that follows a normal distribution."
   ]
  },
  {
   "cell_type": "code",
   "execution_count": 9,
   "metadata": {},
   "outputs": [
    {
     "data": {
      "image/png": "[encoded data removed]",
      "text/plain": [
       "<matplotlib.figure.Figure at 0x1bca0387400>"
      ]
     },
     "metadata": {},
     "output_type": "display_data"
    },
    {
     "data": {
      "image/png": "[encoded data removed]",
      "text/plain": [
       "<matplotlib.figure.Figure at 0x1bca03872b0>"
      ]
     },
     "metadata": {},
     "output_type": "display_data"
    },
    {
     "name": "stdout",
     "output_type": "stream",
     "text": [
      "Basic Statistics of Set 3                   0\n",
      "count  50000.000000\n",
      "mean      -0.003802\n",
      "std        0.999820\n",
      "min       -4.369629\n",
      "25%       -0.681165\n",
      "50%       -0.001765\n",
      "75%        0.668606\n",
      "max        4.213002\n",
      "Basic Statistics of Set 4                   0\n",
      "count  50000.000000\n",
      "mean      -0.004759\n",
      "std        1.003903\n",
      "min       -4.340091\n",
      "25%       -0.685527\n",
      "50%       -0.003092\n",
      "75%        0.669613\n",
      "max        4.309950\n"
     ]
    }
   ],
   "source": [
    "plt.hist(Hist_RANDN_1, bins = 100)\n",
    "plt.title('Histogram of 50000 random numbers (Set 3)')\n",
    "plt.show()\n",
    "plt.hist(Hist_RANDN_2, bins = 100)\n",
    "plt.title('Histogram of 50000 random numbers (Set 4)')\n",
    "plt.show()\n",
    "\n",
    "df_1 = pd.DataFrame(Hist_RANDN_1)\n",
    "print(\"Basic Statistics of Set 3\",df_1.describe())\n",
    "\n",
    "df_2 = pd.DataFrame(Hist_RANDN_2)\n",
    "print(\"Basic Statistics of Set 4\",df_2.describe())"
   ]
  },
  {
   "cell_type": "markdown",
   "metadata": {},
   "source": [
    "## np.random.randint()\n",
    "\n",
    "The *numpy.random.randint* function produces random integers from low (inclusive) to high (exclusive). These can be generated as a single integer or as multiple integers within a given size."
   ]
  },
  {
   "cell_type": "code",
   "execution_count": 10,
   "metadata": {},
   "outputs": [
    {
     "name": "stdout",
     "output_type": "stream",
     "text": [
      "Random Number 1:  32092\n",
      "Random Number 2:  41518\n",
      "Random Number 3:  26714\n",
      "Random Number 4:  11401\n",
      "Random Number 5:  23809\n",
      "Random Number 6:  30546\n",
      "Random Number (7) between 5 and 10:  5\n",
      "Random Number (8) between 5 and 10:  9\n",
      "Random Number (9) between 5 and 10:  9\n",
      "Random Number Array (10) between 5 and 10, n=10:  [ 7 10  6  7  7  6 10  7 10  8]\n",
      "Random Number Array (11) between 5 and 10, n=10:  [10  8  9  8  5  7 10  7  6  7]\n",
      "Random Number Array (12) between 5 and 10, n=10:  [6 5 8 6 6 8 8 9 7 9]\n"
     ]
    }
   ],
   "source": [
    "Hist_RAND_INT_1 = np.random.randint(50000)\n",
    "Hist_RAND_INT_2 = np.random.randint(50000)\n",
    "Hist_RAND_INT_3 = np.random.randint(50000)\n",
    "Hist_RAND_INT_4 = np.random.randint(50000)\n",
    "Hist_RAND_INT_5 = np.random.randint(50000)\n",
    "Hist_RAND_INT_6 = np.random.randint(50000)\n",
    "\n",
    "print(\"Random Number 1: \", Hist_RAND_INT_1)\n",
    "print(\"Random Number 2: \", Hist_RAND_INT_2)\n",
    "print(\"Random Number 3: \", Hist_RAND_INT_3)\n",
    "print(\"Random Number 4: \", Hist_RAND_INT_4)\n",
    "print(\"Random Number 5: \", Hist_RAND_INT_5)\n",
    "print(\"Random Number 6: \", Hist_RAND_INT_6)\n",
    "\n",
    "Hist_RAND_INT_7 = np.random.randint(5, high=11)\n",
    "Hist_RAND_INT_8 = np.random.randint(5, high=11)\n",
    "Hist_RAND_INT_9 = np.random.randint(5, high=11)\n",
    "\n",
    "print(\"Random Number (7) between 5 and 10: \", Hist_RAND_INT_7)\n",
    "print(\"Random Number (8) between 5 and 10: \", Hist_RAND_INT_8)\n",
    "print(\"Random Number (9) between 5 and 10: \", Hist_RAND_INT_9)\n",
    "\n",
    "Hist_RAND_INT_10 = np.random.randint(5, high=11, size=10)\n",
    "Hist_RAND_INT_11 = np.random.randint(5, high=11, size=10)\n",
    "Hist_RAND_INT_12 = np.random.randint(5, high=11, size=10)\n",
    "\n",
    "print(\"Random Number Array (10) between 5 and 10, n=10: \", Hist_RAND_INT_10)\n",
    "print(\"Random Number Array (11) between 5 and 10, n=10: \", Hist_RAND_INT_11)\n",
    "print(\"Random Number Array (12) between 5 and 10, n=10: \", Hist_RAND_INT_12)"
   ]
  },
  {
   "cell_type": "markdown",
   "metadata": {},
   "source": [
    "## numpy.random.choice()\n",
    "\n",
    "The *numpy.random.choice()* function works in a similar way to the *numpy.random.randint* function but rather than selecting intgers, it produces a random choice between an array or list of strings."
   ]
  },
  {
   "cell_type": "code",
   "execution_count": 11,
   "metadata": {},
   "outputs": [
    {
     "name": "stdout",
     "output_type": "stream",
     "text": [
      "Random Colour Choice 1:  red\n",
      "Random Colour Choice 2:  yellow\n",
      "Random Colour Choice 3:  red\n",
      "Random Colour Choice (4), n=5:  ['green' 'blue' 'blue' 'blue' 'red']\n",
      "Random Colour Choice (5), n=5:  ['blue' 'red' 'blue' 'yellow' 'green']\n",
      "Random Colour Choice (6), n=5:  ['yellow' 'yellow' 'red' 'blue' 'yellow']\n"
     ]
    }
   ],
   "source": [
    "colours = ['blue', 'green', 'yellow', 'red']\n",
    "\n",
    "Hist_RAND_Col_1 = np.random.choice(colours)\n",
    "Hist_RAND_Col_2 = np.random.choice(colours)\n",
    "Hist_RAND_Col_3 = np.random.choice(colours)\n",
    "\n",
    "print(\"Random Colour Choice 1: \", Hist_RAND_Col_1)\n",
    "print(\"Random Colour Choice 2: \", Hist_RAND_Col_2)\n",
    "print(\"Random Colour Choice 3: \", Hist_RAND_Col_3)\n",
    "\n",
    "Hist_RAND_Col_4 = np.random.choice(colours, size=5)\n",
    "Hist_RAND_Col_5 = np.random.choice(colours, size=5)\n",
    "Hist_RAND_Col_6 = np.random.choice(colours, size=5)\n",
    "\n",
    "print(\"Random Colour Choice (4), n=5: \", Hist_RAND_Col_4)\n",
    "print(\"Random Colour Choice (5), n=5: \", Hist_RAND_Col_5)\n",
    "print(\"Random Colour Choice (6), n=5: \", Hist_RAND_Col_6)"
   ]
  },
  {
   "cell_type": "markdown",
   "metadata": {},
   "source": [
    "## Permutations\n",
    "\n",
    "This section of the *numpy.random* documentation [3] contains two functions: *numpy.random.shuffle* and *numpy.random.permutation*. \n",
    "\n",
    "## numpy.random.shuffle\n",
    "\n",
    "The *numpy.random.shuffle* function modifies a sequence by shuffling its contents. Only the first axis of a multi-dimensional array is shuffled. This function changes the original data."
   ]
  },
  {
   "cell_type": "code",
   "execution_count": 12,
   "metadata": {},
   "outputs": [
    {
     "name": "stdout",
     "output_type": "stream",
     "text": [
      "Set 1, n=5:  [1, 2, 3, 4, 5]\n",
      "Shuffled Set 1, n=5:  [5, 1, 3, 2, 4]\n",
      "Shuffled Set 2, n=5:  [4, 3, 1, 2, 5]\n",
      "Shuffled Set 3, n=5:  [1, 3, 5, 4, 2]\n",
      "Array 1, n=16, Shape = 4x4:  [[ 0  1  2  3]\n",
      " [ 4  5  6  7]\n",
      " [ 8  9 10 11]\n",
      " [12 13 14 15]]\n",
      "Shuffled Array 1, n=16, Shape = 4x4:  [[ 8  9 10 11]\n",
      " [ 4  5  6  7]\n",
      " [ 0  1  2  3]\n",
      " [12 13 14 15]]\n"
     ]
    }
   ],
   "source": [
    "Shuf = [1, 2, 3, 4, 5]\n",
    "\n",
    "print(\"Set 1, n=5: \", Shuf)\n",
    "np.random.shuffle(Shuf)\n",
    "\n",
    "print(\"Shuffled Set 1, n=5: \", Shuf)\n",
    "np.random.shuffle(Shuf)\n",
    "\n",
    "print(\"Shuffled Set 2, n=5: \", Shuf)\n",
    "np.random.shuffle(Shuf)\n",
    "\n",
    "print(\"Shuffled Set 3, n=5: \", Shuf)\n",
    "\n",
    "Shuf_Ar = np.arange(16).reshape((4, 4))\n",
    "print(\"Array 1, n=16, Shape = 4x4: \", Shuf_Ar)\n",
    "\n",
    "np.random.shuffle(Shuf_Ar)\n",
    "print(\"Shuffled Array 1, n=16, Shape = 4x4: \", Shuf_Ar)\n"
   ]
  },
  {
   "cell_type": "markdown",
   "metadata": {},
   "source": [
    "## numpy.random.permutation\n",
    "\n",
    "The *numpy.random.permutation* function acts in a similiar manner to the *numpy.random.shuffle* function. However, original data remains unchanged."
   ]
  },
  {
   "cell_type": "code",
   "execution_count": 13,
   "metadata": {},
   "outputs": [
    {
     "name": "stdout",
     "output_type": "stream",
     "text": [
      "Set 1, n=5:  [1, 2, 3, 4, 5]\n",
      "Permutation Set 1, n=5:  [3 5 2 4 1]\n",
      "Permutation Set 2, n=5:  [2 4 5 1 3]\n",
      "Permutation Set 3, n=5:  [1 3 2 4 5]\n",
      "Array 1, n=16, Shape = 4x4:  [[ 0  1  2  3]\n",
      " [ 4  5  6  7]\n",
      " [ 8  9 10 11]\n",
      " [12 13 14 15]]\n",
      "Permutation Array 1, n=16, Shape = 4x4:  [[ 4  5  6  7]\n",
      " [ 0  1  2  3]\n",
      " [12 13 14 15]\n",
      " [ 8  9 10 11]]\n"
     ]
    }
   ],
   "source": [
    "Perm = [1, 2, 3, 4, 5]\n",
    "Perm_1 = np.random.permutation(Perm)\n",
    "Perm_2 = np.random.permutation(Perm)\n",
    "Perm_3 = np.random.permutation(Perm)\n",
    "\n",
    "\n",
    "print(\"Set 1, n=5: \", Perm)\n",
    "print(\"Permutation Set 1, n=5: \", Perm_1)\n",
    "print(\"Permutation Set 2, n=5: \", Perm_2)\n",
    "print(\"Permutation Set 3, n=5: \", Perm_3)\n",
    "\n",
    "\n",
    "Perm_Ar = np.arange(16).reshape((4, 4))\n",
    "Perm_Ar_1 = np.random.permutation(Perm_Ar)\n",
    "\n",
    "print(\"Array 1, n=16, Shape = 4x4: \", Perm_Ar)\n",
    "print(\"Permutation Array 1, n=16, Shape = 4x4: \", Perm_Ar_1)\n"
   ]
  },
  {
   "cell_type": "markdown",
   "metadata": {},
   "source": [
    "## Distributions\n",
    "\n",
    "The *np.random.rand()* function and the *np.random.randn()* function, described above, produce uniform and normal distributions respectively. However the *np.random* documentation [3] have simplier methods for creating several distributions. \n",
    "\n",
    "The following will be assessed and explained:\n",
    "1. Gaussian\n",
    "2. Poisson\n",
    "3. Laplace \n",
    "4. Exponential \n",
    "5. Rayleigh \n",
    "\n",
    "## Gaussian Distributions\n",
    "\n",
    "More commonly known as Normal Distribution, the Gaussian Distribution consists of data that is distributed with no bias left or right. When plotted in a histogram, a *Bell Curve* shape can be clearly seen. There are many datasets in life that follow a Gaussian Distribution. Some of these include:\n",
    "1. Heights of People\n",
    "2. Test Scores\n",
    "3. Error Measurements\n",
    "\n",
    "Data is said to follow a Normal Distribution when 50% of values less than the mean and 50% greater than the mean. [4]\n",
    "\n",
    "## Poisson Distribution\n",
    "The Poisson distribution calculated using the discrete probability distribution. It is the number of events occurring in a given time period, given the average number of times the event occurs over that time period. [6]\n",
    "There are a number of conditions for Poisson Distribution:\n",
    "1.\tThere can be any number of events at a given time.\n",
    "2.\tEvents must be independent i.e. one event occurring does not affect another from occurring. An example would be the number of people arriving to a drive-through at a given time. \n",
    "3.\tThe rate of occurrence is a constant.\n",
    "4.\tThe probability of an event occurring is proportional to the length of the time period i.e. if the time period doubles, so too does the probability that the event will occur.\n",
    "\n",
    "\n",
    "## Laplace Distribution\n",
    "The Laplace distribution is similar to the Gaussian Distribution, but is sharper at the peak and has fatter tails. It represents the difference between two independent, identically distributed exponential random variables.  [7] This distribution occurs naturally as the distribution of the difference of two independent, identically distributed exponential variables. It is due to this that the distribution is also called the double exponential distribution. [8]\n",
    "\n",
    "## Exponential Distribution\n",
    "The exponential distribution is one of the most widely used continuous distributions. It is often used to model the time elapsed between events. [10] It can be used to describe many common situations, one of which would be the size of raindrops measured during storms. [11]\n",
    "\n",
    "## Rayleigh Distribution\n",
    "The Rayleigh distribution is a continuous probability distribution for positive-valued random variables. [14] The distribution is widely used in the following:\n",
    "1.\tIn the phisics to model wind speed and wave heights. \n",
    "2.\tIn engineering to measure the lifetime of an object. Such as resistors, transformers, and capacitors.\n",
    "3.\tIn medical imaging, to model noise variance in magnetic resonance imaging. (MRI)\n"
   ]
  },
  {
   "cell_type": "code",
   "execution_count": 23,
   "metadata": {},
   "outputs": [
    {
     "data": {
      "image/png": "[encoded data removed]",
      "text/plain": [
       "<matplotlib.figure.Figure at 0x1bca218f4a8>"
      ]
     },
     "metadata": {},
     "output_type": "display_data"
    },
    {
     "data": {
      "image/png": "[encoded data removed]",
      "text/plain": [
       "<matplotlib.figure.Figure at 0x1bca21b76a0>"
      ]
     },
     "metadata": {},
     "output_type": "display_data"
    },
    {
     "data": {
      "image/png": "[encoded data removed]",
      "text/plain": [
       "<matplotlib.figure.Figure at 0x1bca2084b00>"
      ]
     },
     "metadata": {},
     "output_type": "display_data"
    },
    {
     "data": {
      "image/png": "[encoded data removed]",
      "text/plain": [
       "<matplotlib.figure.Figure at 0x1bca1ca8b38>"
      ]
     },
     "metadata": {},
     "output_type": "display_data"
    },
    {
     "data": {
      "image/png": "[encoded data removed]",
      "text/plain": [
       "<matplotlib.figure.Figure at 0x1bca1fb35c0>"
      ]
     },
     "metadata": {},
     "output_type": "display_data"
    }
   ],
   "source": [
    "# Gaussian - Adapted from [5]\n",
    "\n",
    "mu, sigma = 0.5, 0.1\n",
    "s = np.random.normal(mu, sigma, 1000)\n",
    "\n",
    "# Create the bins and histogram\n",
    "count, bins, ignored = plt.hist(s, 20, normed=True)\n",
    "\n",
    "# Plot the distribution curve\n",
    "plt.plot(bins, 1/(sigma * np.sqrt(2 * np.pi)) *\n",
    "    np.exp( - (bins - mu)**2 / (2 * sigma**2) ),    linewidth=3, color='g')\n",
    "plt.title('Gaussian Distribution')\n",
    "plt.show()\n",
    "\n",
    "# Poisson  - Adapted from [13]\n",
    "\n",
    "t = np.random.poisson(10, 10000)\n",
    "\n",
    "# Create the bins and histogram\n",
    "count, bins, ignored = plt.hist(t, 25, normed=True)\n",
    "plt.title('Poisson Distribution')\n",
    "plt.show()\n",
    "\n",
    "# Laplace - Adapted from [9] \n",
    "\n",
    "loc, scale = 0., 1.\n",
    "s = np.random.laplace(loc, scale, 1000)\n",
    "count, bins, ignored = plt.hist(s, 30, normed=True)\n",
    "x = np.arange(-8., 8., .01)\n",
    "pdf = np.exp(-abs(x-loc)/scale)/(2.*scale)\n",
    "plt.plot(x, pdf)\n",
    "plt.title('Laplace Distribution')\n",
    "plt.show()\n",
    "\n",
    "# Exponential - Adapted from [12] \n",
    "\n",
    "target = 250\n",
    "beta = 1.0/target\n",
    "\n",
    "Y = np.random.exponential(beta, 5000)\n",
    "plt.hist(Y, normed=True, bins=200,lw=0,alpha=.8)\n",
    "plt.ylim(0,target*1.1)\n",
    "plt.title('Exponential Distribution')\n",
    "plt.show()\n",
    "\n",
    "# Rayleigh - Created using [15]\n",
    "\n",
    "r = np.random.rayleigh(2, 500000)\n",
    "plt.hist(r, bins = 100)\n",
    "plt.title('Rayleigh Distribution')\n",
    "plt.show()"
   ]
  },
  {
   "cell_type": "markdown",
   "metadata": {},
   "source": [
    "## References\n",
    "\n",
    "1. https://www.safaribooksonline.com/library/view/python-data-analysis/9781783553358/ch03s05.html\n",
    "2. https://engineering.ucsb.edu/~shell/che210d/numpy.\n",
    "3. https://docs.scipy.org/doc/numpy-1.15.1/reference/routines.random.html\n",
    "4. https://www.mathsisfun.com/data/standard-normal-distribution.html\n",
    "5. https://www.tutorialspoint.com/python/python_normal_distribution.htm\n",
    "6. https://brilliant.org/wiki/poisson-distribution/\n",
    "7. https://docs.scipy.org/doc/numpy-1.15.1/reference/generated/numpy.random.laplace.html#numpy.random.laplace\n",
    "8. http://www.randomservices.org/random/special/Laplace.html\n",
    "9. https://www.w3cschool.cn/doc_numpy_1_13/numpy_1_13-generated-numpy-random-laplace.html\n",
    "10. https://www.probabilitycourse.com/chapter4/4_2_2_exponential.php\n",
    "11. https://docs.scipy.org/doc/numpy-1.15.1/reference/generated/numpy.random.exponential.html#numpy.random.exponential\n",
    "12. https://stackoverflow.com/questions/15091982/manipulating-the-numpy-random-exponential-distribution-in-python\n",
    "13. https://docs.scipy.org/doc/numpy-1.15.1/reference/generated/numpy.random.poisson.html#numpy.random.poisson\n",
    "14. https://www.statisticshowto.datasciencecentral.com/rayleigh-distribution/\n",
    "15. https://docs.scipy.org/doc/numpy-1.15.1/reference/generated/numpy.random.rayleigh.html#numpy.random.rayleigh"
   ]
  }
 ],
 "metadata": {
  "kernelspec": {
   "display_name": "Python 3",
   "language": "python",
   "name": "python3"
  },
  "language_info": {
   "codemirror_mode": {
    "name": "ipython",
    "version": 3
   },
   "file_extension": ".py",
   "mimetype": "text/x-python",
   "name": "python",
   "nbconvert_exporter": "python",
   "pygments_lexer": "ipython3",
   "version": "3.6.3"
  }
 },
 "nbformat": 4,
 "nbformat_minor": 2
}
