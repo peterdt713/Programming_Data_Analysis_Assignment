{
 "cells": [
  {
   "cell_type": "markdown",
   "metadata": {
    "collapsed": true
   },
   "source": [
    "# numpy.random - Package Research\n",
    "\n",
    "## Assignment Details\n",
    "\n",
    "The purpose of this Jupyter notebook is to conduct research into the use of the *numpy.random* package.\n",
    "\n",
    "Per the assignment, there are four distinct tasks to be completed:\n",
    "\n",
    "1. Explain the overall purpose of the package.\n",
    "2. Explain the use of the “Simple random data” and “Permutations” functions.\n",
    "3. Explain the use and purpose of at least five “Distributions” functions.\n",
    "4. Explain the use of seeds in generating pseudorandom numbers."
   ]
  },
  {
   "cell_type": "markdown",
   "metadata": {},
   "source": [
    "## Purpose of the package\n",
    "\n",
    "*numpy.random* is utilised to generate pseudo-random numbers which are generated based on the Mersenne Twister algorithm. Pseudo-random numbers are sufficent for most purposes as real random numbers are difficult to produce. [1] These numbers are considered pseudo random, as opposed to random, as they are generated deterministically from a seed number. Per the introduction to numpy documentation [2],  the numbers are then  distributed  in a random fashion which has statistical similarities to true random numbers. \n",
    "\n",
    "The *numpy.random* subpackage contains a number of fuctions which allow the generation intergers or floats. Per the documentation page, there are four sections which provide an explanation into these functions. Within this notebook, a few of these functions will be analysed and explained. [3]\n",
    "\n"
   ]
  },
  {
   "cell_type": "markdown",
   "metadata": {},
   "source": [
    "## Simple Random Data\n",
    "\n",
    "This section of the *numpy.random* documentation [3] contains several functions that can be utilized to generate random numbers and / or random selections from a list of strings.\n"
   ]
  },
  {
   "cell_type": "code",
   "execution_count": 1,
   "metadata": {
    "collapsed": true
   },
   "outputs": [],
   "source": [
    "import matplotlib\n",
    "import numpy as np\n",
    "import matplotlib.pyplot as plt\n",
    "import pandas as pd\n",
    "%matplotlib inline"
   ]
  },
  {
   "cell_type": "markdown",
   "metadata": {},
   "source": [
    "## np.random.rand()\n",
    "\n",
    "The * np.random.rand()* function creates an array, of a given shape defined by the user, and subsequently populates it with random numbers. The numbers produced are of uniform distribution from *[0, 1)* i.e. 0 < x ≥ 1.\n",
    "\n",
    "See the arrays below that have be procuded in different shapes."
   ]
  },
  {
   "cell_type": "code",
   "execution_count": 2,
   "metadata": {
    "collapsed": true
   },
   "outputs": [],
   "source": [
    "RAND_1a = np.random.rand(5)\n",
    "RAND_1b = np.random.rand(5)\n",
    "\n",
    "RAND_2a = np.random.rand(5,2)\n",
    "RAND_2b = np.random.rand(5,2)\n",
    "\n",
    "RAND_3a = np.random.rand(5,2,2)\n",
    "RAND_3b = np.random.rand(5,2,2)\n",
    "\n",
    "RAND_4a = np.random.rand(5,2,2,2)\n",
    "RAND_4b = np.random.rand(5,2,2,2)"
   ]
  },
  {
   "cell_type": "code",
   "execution_count": 3,
   "metadata": {},
   "outputs": [
    {
     "name": "stdout",
     "output_type": "stream",
     "text": [
      "Array 1: [ 0.52585634  0.27614126  0.5022115   0.09797767  0.25399139]\n",
      "Array 2: [ 0.58496478  0.52659477  0.8774611   0.98334001  0.89386148]\n"
     ]
    }
   ],
   "source": [
    "print(\"Array 1:\",RAND_1a)\n",
    "print(\"Array 2:\",RAND_1b)"
   ]
  },
  {
   "cell_type": "markdown",
   "metadata": {},
   "source": [
    "By producing two arrays at the same time, and by using identical coding, the random number generation can be clearly seen. This becomes more difficult to visualize with larger arrays and with those of different shapes."
   ]
  },
  {
   "cell_type": "code",
   "execution_count": 4,
   "metadata": {},
   "outputs": [
    {
     "name": "stdout",
     "output_type": "stream",
     "text": [
      "Array 3: [[ 0.01993813  0.59232191]\n",
      " [ 0.96071352  0.33287574]\n",
      " [ 0.70157581  0.10825037]\n",
      " [ 0.6076274   0.42236517]\n",
      " [ 0.66364346  0.2981524 ]]\n",
      "Array 4: [[ 0.14145881  0.35465517]\n",
      " [ 0.26615733  0.26390031]\n",
      " [ 0.61998918  0.21095115]\n",
      " [ 0.68782971  0.24085852]\n",
      " [ 0.80563192  0.70669313]]\n"
     ]
    }
   ],
   "source": [
    "print(\"Array 3:\",RAND_2a)\n",
    "print(\"Array 4:\",RAND_2b)"
   ]
  },
  {
   "cell_type": "code",
   "execution_count": 5,
   "metadata": {},
   "outputs": [
    {
     "name": "stdout",
     "output_type": "stream",
     "text": [
      "Array 5: [[[ 0.65912169  0.03940305]\n",
      "  [ 0.4630918   0.69735318]]\n",
      "\n",
      " [[ 0.85967928  0.01699463]\n",
      "  [ 0.16279427  0.35723181]]\n",
      "\n",
      " [[ 0.37233024  0.13466546]\n",
      "  [ 0.30744203  0.8073715 ]]\n",
      "\n",
      " [[ 0.51179568  0.48092562]\n",
      "  [ 0.27873129  0.92405138]]\n",
      "\n",
      " [[ 0.66276157  0.65837849]\n",
      "  [ 0.7205035   0.92291874]]]\n",
      "Array 6: [[[ 0.27033311  0.57967312]\n",
      "  [ 0.63314167  0.02485626]]\n",
      "\n",
      " [[ 0.22396346  0.41967447]\n",
      "  [ 0.02020215  0.60103293]]\n",
      "\n",
      " [[ 0.68082879  0.77101788]\n",
      "  [ 0.05781531  0.58862913]]\n",
      "\n",
      " [[ 0.02655368  0.76635054]\n",
      "  [ 0.5862624   0.79410086]]\n",
      "\n",
      " [[ 0.38650309  0.50079549]\n",
      "  [ 0.44201128  0.99313763]]]\n"
     ]
    }
   ],
   "source": [
    "print(\"Array 5:\",RAND_3a)\n",
    "print(\"Array 6:\",RAND_3b)"
   ]
  },
  {
   "cell_type": "code",
   "execution_count": 6,
   "metadata": {},
   "outputs": [
    {
     "name": "stdout",
     "output_type": "stream",
     "text": [
      "Array 7: [[[[ 0.40032349  0.06863872]\n",
      "   [ 0.88653826  0.96012442]]\n",
      "\n",
      "  [[ 0.72617492  0.28516167]\n",
      "   [ 0.19865077  0.28218645]]]\n",
      "\n",
      "\n",
      " [[[ 0.92793888  0.95524164]\n",
      "   [ 0.02221882  0.15558935]]\n",
      "\n",
      "  [[ 0.51334336  0.25260854]\n",
      "   [ 0.15872241  0.55004931]]]\n",
      "\n",
      "\n",
      " [[[ 0.99443435  0.77950334]\n",
      "   [ 0.30041998  0.11967942]]\n",
      "\n",
      "  [[ 0.9002625   0.34177867]\n",
      "   [ 0.88522887  0.23086883]]]\n",
      "\n",
      "\n",
      " [[[ 0.91271619  0.24568042]\n",
      "   [ 0.3779886   0.44597696]]\n",
      "\n",
      "  [[ 0.90824409  0.46949969]\n",
      "   [ 0.33773129  0.65588398]]]\n",
      "\n",
      "\n",
      " [[[ 0.29001685  0.83065412]\n",
      "   [ 0.0760878   0.08983176]]\n",
      "\n",
      "  [[ 0.87284791  0.79781946]\n",
      "   [ 0.261915    0.08307323]]]]\n",
      "Array 8: [[[[ 0.95110361  0.31487795]\n",
      "   [ 0.98772322  0.24769116]]\n",
      "\n",
      "  [[ 0.34935263  0.11089305]\n",
      "   [ 0.35892086  0.82864896]]]\n",
      "\n",
      "\n",
      " [[[ 0.78170668  0.23888036]\n",
      "   [ 0.88399422  0.73986753]]\n",
      "\n",
      "  [[ 0.52195038  0.97293659]\n",
      "   [ 0.07924984  0.37161281]]]\n",
      "\n",
      "\n",
      " [[[ 0.67078755  0.57738705]\n",
      "   [ 0.92475747  0.85484471]]\n",
      "\n",
      "  [[ 0.35582981  0.71105159]\n",
      "   [ 0.44911695  0.75984427]]]\n",
      "\n",
      "\n",
      " [[[ 0.86000459  0.46188504]\n",
      "   [ 0.13274122  0.83013139]]\n",
      "\n",
      "  [[ 0.67942413  0.20363451]\n",
      "   [ 0.57592509  0.08996374]]]\n",
      "\n",
      "\n",
      " [[[ 0.14265546  0.478325  ]\n",
      "   [ 0.56963176  0.02615641]]\n",
      "\n",
      "  [[ 0.23703314  0.47816419]\n",
      "   [ 0.09478875  0.74853741]]]]\n"
     ]
    }
   ],
   "source": [
    "print(\"Array 7:\",RAND_4a)\n",
    "print(\"Array 8:\",RAND_4b)"
   ]
  },
  {
   "cell_type": "code",
   "execution_count": 7,
   "metadata": {},
   "outputs": [
    {
     "data": {
      "image/png": "[encoded data removed]",
      "text/plain": [
       "<matplotlib.figure.Figure at 0x2148d1ae860>"
      ]
     },
     "metadata": {},
     "output_type": "display_data"
    },
    {
     "data": {
      "image/png": "[encoded data removed]",
      "text/plain": [
       "<matplotlib.figure.Figure at 0x214888026a0>"
      ]
     },
     "metadata": {},
     "output_type": "display_data"
    },
    {
     "name": "stdout",
     "output_type": "stream",
     "text": [
      "Basic Statistics of Set 1                   0\n",
      "count  50000.000000\n",
      "mean       0.501462\n",
      "std        0.288711\n",
      "min        0.000048\n",
      "25%        0.251817\n",
      "50%        0.503829\n",
      "75%        0.750839\n",
      "max        0.999937\n",
      "Basic Statistics of Set 2                   0\n",
      "count  50000.000000\n",
      "mean       0.500807\n",
      "std        0.288686\n",
      "min        0.000021\n",
      "25%        0.251055\n",
      "50%        0.500600\n",
      "75%        0.750966\n",
      "max        0.999908\n"
     ]
    }
   ],
   "source": [
    "Hist_RAND_1 = np.random.rand(50000)\n",
    "Hist_RAND_2 = np.random.rand(50000)\n",
    "\n",
    "plt.hist(Hist_RAND_1, bins = 10)\n",
    "plt.title('Histogram of 50000 random numbers (Set 1)')\n",
    "plt.show()\n",
    "plt.hist(Hist_RAND_2, bins = 10)\n",
    "plt.title('Histogram of 50000 random numbers (Set 2)')\n",
    "plt.show()\n",
    "\n",
    "df_1 = pd.DataFrame(Hist_RAND_1)\n",
    "print(\"Basic Statistics of Set 1\",df_1.describe())\n",
    "\n",
    "df_2 = pd.DataFrame(Hist_RAND_2)\n",
    "print(\"Basic Statistics of Set 2\",df_2.describe())"
   ]
  },
  {
   "cell_type": "markdown",
   "metadata": {},
   "source": [
    "By plotting two histograms of Set 1 and Set 2 and by producing some basic descriptive statistics of the two datasets, the uniform distribution can be visualized. It can also be seen that the datasets have slight differences in what numbers were randomly generated."
   ]
  },
  {
   "cell_type": "markdown",
   "metadata": {
    "collapsed": true
   },
   "source": [
    "## np.random.randn()\n",
    "\n",
    "Similarly to the *np.random.rand()* function, the *np.random.randn()* function produces an array of random numbers within a user inputted size and shape. The difference between the two functions is that the *np.random.randn()* function produces random numbers that will always follow a Gaussian distribution, i.e. a Normal Distribution, with a mean of 0 and a variance of 1. \n"
   ]
  },
  {
   "cell_type": "code",
   "execution_count": 8,
   "metadata": {},
   "outputs": [
    {
     "data": {
      "image/png": "[encoded data removed]",
      "text/plain": [
       "<matplotlib.figure.Figure at 0x2148b1e6748>"
      ]
     },
     "metadata": {},
     "output_type": "display_data"
    },
    {
     "data": {
      "image/png": "[encoded data removed]",
      "text/plain": [
       "<matplotlib.figure.Figure at 0x2148b1e65c0>"
      ]
     },
     "metadata": {},
     "output_type": "display_data"
    },
    {
     "name": "stdout",
     "output_type": "stream",
     "text": [
      "Basic Statistics of Set 3                   0\n",
      "count  50000.000000\n",
      "mean      -0.003812\n",
      "std        0.999770\n",
      "min       -4.485030\n",
      "25%       -0.676219\n",
      "50%       -0.005539\n",
      "75%        0.672060\n",
      "max        4.155105\n",
      "Basic Statistics of Set 4                   0\n",
      "count  50000.000000\n",
      "mean      -0.006961\n",
      "std        0.999763\n",
      "min       -4.233808\n",
      "25%       -0.685878\n",
      "50%       -0.013388\n",
      "75%        0.671461\n",
      "max        4.232309\n"
     ]
    }
   ],
   "source": [
    "Hist_RANDN_1 = np.random.randn(50000)\n",
    "Hist_RANDN_2 = np.random.randn(50000)\n",
    "\n",
    "plt.hist(Hist_RANDN_1, bins = 10)\n",
    "plt.title('Histogram of 50000 random numbers (Set 3)')\n",
    "plt.show()\n",
    "plt.hist(Hist_RANDN_2, bins = 10)\n",
    "plt.title('Histogram of 50000 random numbers (Set 4)')\n",
    "plt.show()\n",
    "\n",
    "df_1 = pd.DataFrame(Hist_RANDN_1)\n",
    "print(\"Basic Statistics of Set 3\",df_1.describe())\n",
    "\n",
    "df_2 = pd.DataFrame(Hist_RANDN_2)\n",
    "print(\"Basic Statistics of Set 4\",df_2.describe())"
   ]
  },
  {
   "cell_type": "markdown",
   "metadata": {},
   "source": [
    "From viewing the histograms produced for datasets 3 and 4, it can be clearly noted that the *np.random.randn()* function produces data that follow much different distribution that the *np.random.rand()* function.  By increasing the bins values, a bell curve shape will begin to form this is typical of data that follows a normal distribution."
   ]
  },
  {
   "cell_type": "code",
   "execution_count": 9,
   "metadata": {},
   "outputs": [
    {
     "data": {
      "image/png": "[encoded data removed]",
      "text/plain": [
       "<matplotlib.figure.Figure at 0x2148d1ae588>"
      ]
     },
     "metadata": {},
     "output_type": "display_data"
    },
    {
     "data": {
      "image/png": "[encoded data removed]",
      "text/plain": [
       "<matplotlib.figure.Figure at 0x2148d1ae4e0>"
      ]
     },
     "metadata": {},
     "output_type": "display_data"
    },
    {
     "name": "stdout",
     "output_type": "stream",
     "text": [
      "Basic Statistics of Set 3                   0\n",
      "count  50000.000000\n",
      "mean      -0.003812\n",
      "std        0.999770\n",
      "min       -4.485030\n",
      "25%       -0.676219\n",
      "50%       -0.005539\n",
      "75%        0.672060\n",
      "max        4.155105\n",
      "Basic Statistics of Set 4                   0\n",
      "count  50000.000000\n",
      "mean      -0.006961\n",
      "std        0.999763\n",
      "min       -4.233808\n",
      "25%       -0.685878\n",
      "50%       -0.013388\n",
      "75%        0.671461\n",
      "max        4.232309\n"
     ]
    }
   ],
   "source": [
    "plt.hist(Hist_RANDN_1, bins = 100)\n",
    "plt.title('Histogram of 50000 random numbers (Set 3)')\n",
    "plt.show()\n",
    "plt.hist(Hist_RANDN_2, bins = 100)\n",
    "plt.title('Histogram of 50000 random numbers (Set 4)')\n",
    "plt.show()\n",
    "\n",
    "df_1 = pd.DataFrame(Hist_RANDN_1)\n",
    "print(\"Basic Statistics of Set 3\",df_1.describe())\n",
    "\n",
    "df_2 = pd.DataFrame(Hist_RANDN_2)\n",
    "print(\"Basic Statistics of Set 4\",df_2.describe())"
   ]
  },
  {
   "cell_type": "markdown",
   "metadata": {},
   "source": [
    "## np.random.randint()\n",
    "\n",
    "The *numpy.random.randint* function produces random integers from low (inclusive) to high (exclusive). These can be generated as a single integer or as multiple integers within a given size."
   ]
  },
  {
   "cell_type": "code",
   "execution_count": 16,
   "metadata": {},
   "outputs": [
    {
     "name": "stdout",
     "output_type": "stream",
     "text": [
      "Random Number 1:  42823\n",
      "Random Number 2:  31978\n",
      "Random Number 3:  12336\n",
      "Random Number 4:  26369\n",
      "Random Number 5:  40275\n",
      "Random Number 6:  31420\n",
      "Random Number (7) between 5 and 10:  5\n",
      "Random Number (8) between 5 and 10:  9\n",
      "Random Number (9) between 5 and 10:  8\n",
      "Random Number Array (10) between 5 and 10, n=10:  [8 9 5 8 9 7 5 8 7 6]\n",
      "Random Number Array (11) between 5 and 10, n=10:  [ 5  7  7 10  8  7  5  9 10  6]\n",
      "Random Number Array (12) between 5 and 10, n=10:  [10  5  8 10 10  8  9 10  9  5]\n"
     ]
    }
   ],
   "source": [
    "Hist_RAND_INT_1 = np.random.randint(50000)\n",
    "Hist_RAND_INT_2 = np.random.randint(50000)\n",
    "Hist_RAND_INT_3 = np.random.randint(50000)\n",
    "Hist_RAND_INT_4 = np.random.randint(50000)\n",
    "Hist_RAND_INT_5 = np.random.randint(50000)\n",
    "Hist_RAND_INT_6 = np.random.randint(50000)\n",
    "\n",
    "print(\"Random Number 1: \", Hist_RAND_INT_1)\n",
    "print(\"Random Number 2: \", Hist_RAND_INT_2)\n",
    "print(\"Random Number 3: \", Hist_RAND_INT_3)\n",
    "print(\"Random Number 4: \", Hist_RAND_INT_4)\n",
    "print(\"Random Number 5: \", Hist_RAND_INT_5)\n",
    "print(\"Random Number 6: \", Hist_RAND_INT_6)\n",
    "\n",
    "Hist_RAND_INT_7 = np.random.randint(5, high=11)\n",
    "Hist_RAND_INT_8 = np.random.randint(5, high=11)\n",
    "Hist_RAND_INT_9 = np.random.randint(5, high=11)\n",
    "\n",
    "print(\"Random Number (7) between 5 and 10: \", Hist_RAND_INT_7)\n",
    "print(\"Random Number (8) between 5 and 10: \", Hist_RAND_INT_8)\n",
    "print(\"Random Number (9) between 5 and 10: \", Hist_RAND_INT_9)\n",
    "\n",
    "Hist_RAND_INT_10 = np.random.randint(5, high=11, size=10)\n",
    "Hist_RAND_INT_11 = np.random.randint(5, high=11, size=10)\n",
    "Hist_RAND_INT_12 = np.random.randint(5, high=11, size=10)\n",
    "\n",
    "print(\"Random Number Array (10) between 5 and 10, n=10: \", Hist_RAND_INT_10)\n",
    "print(\"Random Number Array (11) between 5 and 10, n=10: \", Hist_RAND_INT_11)\n",
    "print(\"Random Number Array (12) between 5 and 10, n=10: \", Hist_RAND_INT_12)"
   ]
  },
  {
   "cell_type": "markdown",
   "metadata": {},
   "source": [
    "## numpy.random.choice()\n",
    "\n",
    "The *numpy.random.choice()* function works in a similar way to the *numpy.random.randint* function but rather than selecting intgers, it produces a random choice between an array or list of strings."
   ]
  },
  {
   "cell_type": "code",
   "execution_count": 29,
   "metadata": {},
   "outputs": [
    {
     "name": "stdout",
     "output_type": "stream",
     "text": [
      "Random Colour Choice 1:  blue\n",
      "Random Colour Choice 2:  blue\n",
      "Random Colour Choice 3:  green\n",
      "Random Colour Choice (4), n=5:  ['blue' 'red' 'red' 'green' 'yellow']\n",
      "Random Colour Choice (5), n=5:  ['green' 'red' 'green' 'green' 'green']\n",
      "Random Colour Choice (6), n=5:  ['green' 'yellow' 'blue' 'red' 'blue']\n"
     ]
    }
   ],
   "source": [
    "colours = ['blue', 'green', 'yellow', 'red']\n",
    "\n",
    "Hist_RAND_Col_1 = np.random.choice(colours)\n",
    "Hist_RAND_Col_2 = np.random.choice(colours)\n",
    "Hist_RAND_Col_3 = np.random.choice(colours)\n",
    "\n",
    "print(\"Random Colour Choice 1: \", Hist_RAND_Col_1)\n",
    "print(\"Random Colour Choice 2: \", Hist_RAND_Col_2)\n",
    "print(\"Random Colour Choice 3: \", Hist_RAND_Col_3)\n",
    "\n",
    "Hist_RAND_Col_4 = np.random.choice(colours, size=5)\n",
    "Hist_RAND_Col_5 = np.random.choice(colours, size=5)\n",
    "Hist_RAND_Col_6 = np.random.choice(colours, size=5)\n",
    "\n",
    "print(\"Random Colour Choice (4), n=5: \", Hist_RAND_Col_4)\n",
    "print(\"Random Colour Choice (5), n=5: \", Hist_RAND_Col_5)\n",
    "print(\"Random Colour Choice (6), n=5: \", Hist_RAND_Col_6)"
   ]
  },
  {
   "cell_type": "markdown",
   "metadata": {},
   "source": [
    "## References\n",
    "\n",
    "1. https://www.safaribooksonline.com/library/view/python-data-analysis/9781783553358/ch03s05.html\n",
    "2. https://engineering.ucsb.edu/~shell/che210d/numpy.\n",
    "3. https://docs.scipy.org/doc/numpy-1.15.1/reference/routines.random.html"
   ]
  }
 ],
 "metadata": {
  "kernelspec": {
   "display_name": "Python 3",
   "language": "python",
   "name": "python3"
  },
  "language_info": {
   "codemirror_mode": {
    "name": "ipython",
    "version": 3
   },
   "file_extension": ".py",
   "mimetype": "text/x-python",
   "name": "python",
   "nbconvert_exporter": "python",
   "pygments_lexer": "ipython3",
   "version": "3.6.3"
  }
 },
 "nbformat": 4,
 "nbformat_minor": 2
}
